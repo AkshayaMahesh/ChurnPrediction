{
  "cells": [
    {
      "cell_type": "markdown",
      "source": [
        "#####Project Code"
      ],
      "metadata": {
        "id": "YJYQ9DSmcXIv"
      },
      "id": "YJYQ9DSmcXIv"
    },
    {
      "cell_type": "markdown",
      "source": [
        "Importing Required Libraries"
      ],
      "metadata": {
        "id": "jq2Giu3ncihc"
      },
      "id": "jq2Giu3ncihc"
    },
    {
      "cell_type": "code",
      "source": [
        "import numpy as np\n",
        "import pandas as pd\n",
        "import matplotlib.pyplot as plt\n",
        "import seaborn as sns\n",
        "from sklearn.linear_model import RidgeClassifier\n",
        "from sklearn.metrics import accuracy_score\n",
        "from sklearn.ensemble import RandomForestClassifier\n",
        "from sklearn.neighbors import KNeighborsClassifier\n",
        "from sklearn.linear_model import LogisticRegression\n",
        "from sklearn.model_selection import GridSearchCV\n",
        "from sklearn.preprocessing import LabelEncoder, OneHotEncoder\n",
        "from sklearn.preprocessing import MinMaxScaler\n",
        "from sklearn.model_selection import RandomizedSearchCV\n",
        "import warnings\n",
        "from sklearn.metrics import confusion_matrix\n",
        "from sklearn.metrics import precision_score, recall_score, f1_score, accuracy_score\n",
        "%matplotlib inline"
      ],
      "metadata": {
        "id": "u_cky03ucIwv"
      },
      "id": "u_cky03ucIwv",
      "execution_count": null,
      "outputs": []
    },
    {
      "cell_type": "markdown",
      "source": [
        "Loading the dataset "
      ],
      "metadata": {
        "id": "6aTDMxczc_fm"
      },
      "id": "6aTDMxczc_fm"
    },
    {
      "cell_type": "code",
      "source": [
        "#Dataset\n",
        "df = pd.read_csv(\"Telco-Customer-Churn.csv\")\n",
        "df.shape"
      ],
      "metadata": {
        "colab": {
          "base_uri": "https://localhost:8080/"
        },
        "id": "uRLmDm2nvoNu",
        "outputId": "92c6ab99-8f7b-41e1-b486-3cc13a65363a"
      },
      "id": "uRLmDm2nvoNu",
      "execution_count": null,
      "outputs": [
        {
          "output_type": "execute_result",
          "data": {
            "text/plain": [
              "(7043, 21)"
            ]
          },
          "metadata": {},
          "execution_count": 2
        }
      ]
    },
    {
      "cell_type": "code",
      "execution_count": null,
      "id": "18c18406",
      "metadata": {
        "colab": {
          "base_uri": "https://localhost:8080/"
        },
        "id": "18c18406",
        "outputId": "bc804d2d-05f6-42fc-c12e-3aa16e5fff9e"
      },
      "outputs": [
        {
          "output_type": "stream",
          "name": "stdout",
          "text": [
            "<class 'pandas.core.frame.DataFrame'>\n",
            "RangeIndex: 7043 entries, 0 to 7042\n",
            "Data columns (total 21 columns):\n",
            " #   Column            Non-Null Count  Dtype  \n",
            "---  ------            --------------  -----  \n",
            " 0   customerID        7043 non-null   object \n",
            " 1   gender            7043 non-null   object \n",
            " 2   SeniorCitizen     7043 non-null   int64  \n",
            " 3   Partner           7043 non-null   object \n",
            " 4   Dependents        7043 non-null   object \n",
            " 5   tenure            7043 non-null   int64  \n",
            " 6   PhoneService      7043 non-null   object \n",
            " 7   MultipleLines     7043 non-null   object \n",
            " 8   InternetService   7043 non-null   object \n",
            " 9   OnlineSecurity    7043 non-null   object \n",
            " 10  OnlineBackup      7043 non-null   object \n",
            " 11  DeviceProtection  7043 non-null   object \n",
            " 12  TechSupport       7043 non-null   object \n",
            " 13  StreamingTV       7043 non-null   object \n",
            " 14  StreamingMovies   7043 non-null   object \n",
            " 15  Contract          7043 non-null   object \n",
            " 16  PaperlessBilling  7043 non-null   object \n",
            " 17  PaymentMethod     7043 non-null   object \n",
            " 18  MonthlyCharges    7043 non-null   float64\n",
            " 19  TotalCharges      7043 non-null   object \n",
            " 20  Churn             7043 non-null   object \n",
            "dtypes: float64(1), int64(2), object(18)\n",
            "memory usage: 1.1+ MB\n"
          ]
        }
      ],
      "source": [
        "df.info()"
      ]
    },
    {
      "cell_type": "code",
      "execution_count": null,
      "id": "01134261",
      "metadata": {
        "colab": {
          "base_uri": "https://localhost:8080/"
        },
        "id": "01134261",
        "outputId": "d1a7fd7f-270c-4e29-8461-1162ae2e45d8"
      },
      "outputs": [
        {
          "output_type": "execute_result",
          "data": {
            "text/plain": [
              "customerID          7043\n",
              "gender                 2\n",
              "SeniorCitizen          2\n",
              "Partner                2\n",
              "Dependents             2\n",
              "tenure                73\n",
              "PhoneService           2\n",
              "MultipleLines          3\n",
              "InternetService        3\n",
              "OnlineSecurity         3\n",
              "OnlineBackup           3\n",
              "DeviceProtection       3\n",
              "TechSupport            3\n",
              "StreamingTV            3\n",
              "StreamingMovies        3\n",
              "Contract               3\n",
              "PaperlessBilling       2\n",
              "PaymentMethod          4\n",
              "MonthlyCharges      1585\n",
              "TotalCharges        6531\n",
              "Churn                  2\n",
              "dtype: int64"
            ]
          },
          "metadata": {},
          "execution_count": 4
        }
      ],
      "source": [
        "df.nunique()"
      ]
    },
    {
      "cell_type": "code",
      "source": [
        "df['Churn'].replace(to_replace='Yes', value=1, inplace=True)\n",
        "df['Churn'].replace(to_replace='No',  value=0, inplace=True)"
      ],
      "metadata": {
        "id": "YZtB0V13oEPM"
      },
      "id": "YZtB0V13oEPM",
      "execution_count": null,
      "outputs": []
    },
    {
      "cell_type": "markdown",
      "source": [
        "Creating a function that will return correlation matrix for any dataframe"
      ],
      "metadata": {
        "id": "lpHxeOevwuzS"
      },
      "id": "lpHxeOevwuzS"
    },
    {
      "cell_type": "code",
      "source": [
        "def create_correlation_matrix(dataframe):\n",
        "    data = pd.get_dummies(dataframe)\n",
        "    cormat = data.corr()\n",
        "    return round(cormat, 2)"
      ],
      "metadata": {
        "id": "ewh9WFK7kj3U"
      },
      "id": "ewh9WFK7kj3U",
      "execution_count": null,
      "outputs": []
    },
    {
      "cell_type": "markdown",
      "source": [
        "Creating a function that will create count plot for given input"
      ],
      "metadata": {
        "id": "7Xz6KneY42RX"
      },
      "id": "7Xz6KneY42RX"
    },
    {
      "cell_type": "code",
      "source": [
        "def plot_feature_churn(df,x):\n",
        "    features = x\n",
        "\n",
        "    fig, axes = plt.subplots(2,3, figsize=(12, 7))\n",
        "    axes = axes.flatten()\n",
        "\n",
        "    for i, feature in enumerate(features):\n",
        "        sns.countplot(data=df, x=feature, hue='Churn', ax=axes[i])"
      ],
      "metadata": {
        "id": "KElViM3TeH5u"
      },
      "id": "KElViM3TeH5u",
      "execution_count": null,
      "outputs": []
    },
    {
      "cell_type": "markdown",
      "source": [
        "##Exploring Variables with Binary Features"
      ],
      "metadata": {
        "id": "OKMNsl1wk8Zi"
      },
      "id": "OKMNsl1wk8Zi"
    },
    {
      "cell_type": "markdown",
      "source": [
        "Lets look the sampling of each variables with respect to churn..."
      ],
      "metadata": {
        "id": "Xczob0N8llUY"
      },
      "id": "Xczob0N8llUY"
    },
    {
      "cell_type": "code",
      "source": [
        "binary_features=['gender', 'SeniorCitizen', 'Partner', 'PaperlessBilling' , 'Dependents','PhoneService']\n",
        "binary_data=df[['Churn','gender','SeniorCitizen','Partner','Dependents','PhoneService','PaperlessBilling']]\n",
        "plot_feature_churn(df,binary_features)"
      ],
      "metadata": {
        "colab": {
          "base_uri": "https://localhost:8080/",
          "height": 442
        },
        "id": "l3RSOpBskOtX",
        "outputId": "e69fa5f8-d3bb-4b56-eaf5-dec37a2fbc8e"
      },
      "id": "l3RSOpBskOtX",
      "execution_count": null,
      "outputs": [
        {
          "output_type": "display_data",
          "data": {
            "text/plain": [
              "<Figure size 864x504 with 6 Axes>"
            ],
            "image/png": "[encoded data removed]"
          },
          "metadata": {
            "needs_background": "light"
          }
        }
      ]
    },
    {
      "cell_type": "markdown",
      "source": [
        "Correlation of each binary variables with respect to churn..."
      ],
      "metadata": {
        "id": "HJeRtB54l730"
      },
      "id": "HJeRtB54l730"
    },
    {
      "cell_type": "code",
      "source": [
        "create_correlation_matrix(binary_data)"
      ],
      "metadata": {
        "colab": {
          "base_uri": "https://localhost:8080/",
          "height": 489
        },
        "id": "h0eJ_6_-l65A",
        "outputId": "28da5498-a127-4243-e33c-db46093dd331"
      },
      "id": "h0eJ_6_-l65A",
      "execution_count": null,
      "outputs": [
        {
          "output_type": "execute_result",
          "data": {
            "text/plain": [
              "                      Churn  SeniorCitizen  gender_Female  gender_Male  \\\n",
              "Churn                  1.00           0.15           0.01        -0.01   \n",
              "SeniorCitizen          0.15           1.00           0.00        -0.00   \n",
              "gender_Female          0.01           0.00           1.00        -1.00   \n",
              "gender_Male           -0.01          -0.00          -1.00         1.00   \n",
              "Partner_No             0.15          -0.02          -0.00         0.00   \n",
              "Partner_Yes           -0.15           0.02           0.00        -0.00   \n",
              "Dependents_No          0.16           0.21           0.01        -0.01   \n",
              "Dependents_Yes        -0.16          -0.21          -0.01         0.01   \n",
              "PhoneService_No       -0.01          -0.01          -0.01         0.01   \n",
              "PhoneService_Yes       0.01           0.01           0.01        -0.01   \n",
              "PaperlessBilling_No   -0.19          -0.16          -0.01         0.01   \n",
              "PaperlessBilling_Yes   0.19           0.16           0.01        -0.01   \n",
              "\n",
              "                      Partner_No  Partner_Yes  Dependents_No  Dependents_Yes  \\\n",
              "Churn                       0.15        -0.15           0.16           -0.16   \n",
              "SeniorCitizen              -0.02         0.02           0.21           -0.21   \n",
              "gender_Female              -0.00         0.00           0.01           -0.01   \n",
              "gender_Male                 0.00        -0.00          -0.01            0.01   \n",
              "Partner_No                  1.00        -1.00           0.45           -0.45   \n",
              "Partner_Yes                -1.00         1.00          -0.45            0.45   \n",
              "Dependents_No               0.45        -0.45           1.00           -1.00   \n",
              "Dependents_Yes             -0.45         0.45          -1.00            1.00   \n",
              "PhoneService_No             0.02        -0.02          -0.00            0.00   \n",
              "PhoneService_Yes           -0.02         0.02           0.00           -0.00   \n",
              "PaperlessBilling_No        -0.01         0.01          -0.11            0.11   \n",
              "PaperlessBilling_Yes        0.01        -0.01           0.11           -0.11   \n",
              "\n",
              "                      PhoneService_No  PhoneService_Yes  PaperlessBilling_No  \\\n",
              "Churn                           -0.01              0.01                -0.19   \n",
              "SeniorCitizen                   -0.01              0.01                -0.16   \n",
              "gender_Female                   -0.01              0.01                -0.01   \n",
              "gender_Male                      0.01             -0.01                 0.01   \n",
              "Partner_No                       0.02             -0.02                -0.01   \n",
              "Partner_Yes                     -0.02              0.02                 0.01   \n",
              "Dependents_No                   -0.00              0.00                -0.11   \n",
              "Dependents_Yes                   0.00             -0.00                 0.11   \n",
              "PhoneService_No                  1.00             -1.00                 0.02   \n",
              "PhoneService_Yes                -1.00              1.00                -0.02   \n",
              "PaperlessBilling_No              0.02             -0.02                 1.00   \n",
              "PaperlessBilling_Yes            -0.02              0.02                -1.00   \n",
              "\n",
              "                      PaperlessBilling_Yes  \n",
              "Churn                                 0.19  \n",
              "SeniorCitizen                         0.16  \n",
              "gender_Female                         0.01  \n",
              "gender_Male                          -0.01  \n",
              "Partner_No                            0.01  \n",
              "Partner_Yes                          -0.01  \n",
              "Dependents_No                         0.11  \n",
              "Dependents_Yes                       -0.11  \n",
              "PhoneService_No                      -0.02  \n",
              "PhoneService_Yes                      0.02  \n",
              "PaperlessBilling_No                  -1.00  \n",
              "PaperlessBilling_Yes                  1.00  "
            ],
            "text/html": [
              "\n",
              "  <div id=\"df-8af7306e-7f26-4bc3-9ab1-07fecbc964bf\">\n",
              "    <div class=\"colab-df-container\">\n",
              "      <div>\n",
              "<style scoped>\n",
              "    .dataframe tbody tr th:only-of-type {\n",
              "        vertical-align: middle;\n",
              "    }\n",
              "\n",
              "    .dataframe tbody tr th {\n",
              "        vertical-align: top;\n",
              "    }\n",
              "\n",
              "    .dataframe thead th {\n",
              "        text-align: right;\n",
              "    }\n",
              "</style>\n",
              "<table border=\"1\" class=\"dataframe\">\n",
              "  <thead>\n",
              "    <tr style=\"text-align: right;\">\n",
              "      <th></th>\n",
              "      <th>Churn</th>\n",
              "      <th>SeniorCitizen</th>\n",
              "      <th>gender_Female</th>\n",
              "      <th>gender_Male</th>\n",
              "      <th>Partner_No</th>\n",
              "      <th>Partner_Yes</th>\n",
              "      <th>Dependents_No</th>\n",
              "      <th>Dependents_Yes</th>\n",
              "      <th>PhoneService_No</th>\n",
              "      <th>PhoneService_Yes</th>\n",
              "      <th>PaperlessBilling_No</th>\n",
              "      <th>PaperlessBilling_Yes</th>\n",
              "    </tr>\n",
              "  </thead>\n",
              "  <tbody>\n",
              "    <tr>\n",
              "      <th>Churn</th>\n",
              "      <td>1.00</td>\n",
              "      <td>0.15</td>\n",
              "      <td>0.01</td>\n",
              "      <td>-0.01</td>\n",
              "      <td>0.15</td>\n",
              "      <td>-0.15</td>\n",
              "      <td>0.16</td>\n",
              "      <td>-0.16</td>\n",
              "      <td>-0.01</td>\n",
              "      <td>0.01</td>\n",
              "      <td>-0.19</td>\n",
              "      <td>0.19</td>\n",
              "    </tr>\n",
              "    <tr>\n",
              "      <th>SeniorCitizen</th>\n",
              "      <td>0.15</td>\n",
              "      <td>1.00</td>\n",
              "      <td>0.00</td>\n",
              "      <td>-0.00</td>\n",
              "      <td>-0.02</td>\n",
              "      <td>0.02</td>\n",
              "      <td>0.21</td>\n",
              "      <td>-0.21</td>\n",
              "      <td>-0.01</td>\n",
              "      <td>0.01</td>\n",
              "      <td>-0.16</td>\n",
              "      <td>0.16</td>\n",
              "    </tr>\n",
              "    <tr>\n",
              "      <th>gender_Female</th>\n",
              "      <td>0.01</td>\n",
              "      <td>0.00</td>\n",
              "      <td>1.00</td>\n",
              "      <td>-1.00</td>\n",
              "      <td>-0.00</td>\n",
              "      <td>0.00</td>\n",
              "      <td>0.01</td>\n",
              "      <td>-0.01</td>\n",
              "      <td>-0.01</td>\n",
              "      <td>0.01</td>\n",
              "      <td>-0.01</td>\n",
              "      <td>0.01</td>\n",
              "    </tr>\n",
              "    <tr>\n",
              "      <th>gender_Male</th>\n",
              "      <td>-0.01</td>\n",
              "      <td>-0.00</td>\n",
              "      <td>-1.00</td>\n",
              "      <td>1.00</td>\n",
              "      <td>0.00</td>\n",
              "      <td>-0.00</td>\n",
              "      <td>-0.01</td>\n",
              "      <td>0.01</td>\n",
              "      <td>0.01</td>\n",
              "      <td>-0.01</td>\n",
              "      <td>0.01</td>\n",
              "      <td>-0.01</td>\n",
              "    </tr>\n",
              "    <tr>\n",
              "      <th>Partner_No</th>\n",
              "      <td>0.15</td>\n",
              "      <td>-0.02</td>\n",
              "      <td>-0.00</td>\n",
              "      <td>0.00</td>\n",
              "      <td>1.00</td>\n",
              "      <td>-1.00</td>\n",
              "      <td>0.45</td>\n",
              "      <td>-0.45</td>\n",
              "      <td>0.02</td>\n",
              "      <td>-0.02</td>\n",
              "      <td>-0.01</td>\n",
              "      <td>0.01</td>\n",
              "    </tr>\n",
              "    <tr>\n",
              "      <th>Partner_Yes</th>\n",
              "      <td>-0.15</td>\n",
              "      <td>0.02</td>\n",
              "      <td>0.00</td>\n",
              "      <td>-0.00</td>\n",
              "      <td>-1.00</td>\n",
              "      <td>1.00</td>\n",
              "      <td>-0.45</td>\n",
              "      <td>0.45</td>\n",
              "      <td>-0.02</td>\n",
              "      <td>0.02</td>\n",
              "      <td>0.01</td>\n",
              "      <td>-0.01</td>\n",
              "    </tr>\n",
              "    <tr>\n",
              "      <th>Dependents_No</th>\n",
              "      <td>0.16</td>\n",
              "      <td>0.21</td>\n",
              "      <td>0.01</td>\n",
              "      <td>-0.01</td>\n",
              "      <td>0.45</td>\n",
              "      <td>-0.45</td>\n",
              "      <td>1.00</td>\n",
              "      <td>-1.00</td>\n",
              "      <td>-0.00</td>\n",
              "      <td>0.00</td>\n",
              "      <td>-0.11</td>\n",
              "      <td>0.11</td>\n",
              "    </tr>\n",
              "    <tr>\n",
              "      <th>Dependents_Yes</th>\n",
              "      <td>-0.16</td>\n",
              "      <td>-0.21</td>\n",
              "      <td>-0.01</td>\n",
              "      <td>0.01</td>\n",
              "      <td>-0.45</td>\n",
              "      <td>0.45</td>\n",
              "      <td>-1.00</td>\n",
              "      <td>1.00</td>\n",
              "      <td>0.00</td>\n",
              "      <td>-0.00</td>\n",
              "      <td>0.11</td>\n",
              "      <td>-0.11</td>\n",
              "    </tr>\n",
              "    <tr>\n",
              "      <th>PhoneService_No</th>\n",
              "      <td>-0.01</td>\n",
              "      <td>-0.01</td>\n",
              "      <td>-0.01</td>\n",
              "      <td>0.01</td>\n",
              "      <td>0.02</td>\n",
              "      <td>-0.02</td>\n",
              "      <td>-0.00</td>\n",
              "      <td>0.00</td>\n",
              "      <td>1.00</td>\n",
              "      <td>-1.00</td>\n",
              "      <td>0.02</td>\n",
              "      <td>-0.02</td>\n",
              "    </tr>\n",
              "    <tr>\n",
              "      <th>PhoneService_Yes</th>\n",
              "      <td>0.01</td>\n",
              "      <td>0.01</td>\n",
              "      <td>0.01</td>\n",
              "      <td>-0.01</td>\n",
              "      <td>-0.02</td>\n",
              "      <td>0.02</td>\n",
              "      <td>0.00</td>\n",
              "      <td>-0.00</td>\n",
              "      <td>-1.00</td>\n",
              "      <td>1.00</td>\n",
              "      <td>-0.02</td>\n",
              "      <td>0.02</td>\n",
              "    </tr>\n",
              "    <tr>\n",
              "      <th>PaperlessBilling_No</th>\n",
              "      <td>-0.19</td>\n",
              "      <td>-0.16</td>\n",
              "      <td>-0.01</td>\n",
              "      <td>0.01</td>\n",
              "      <td>-0.01</td>\n",
              "      <td>0.01</td>\n",
              "      <td>-0.11</td>\n",
              "      <td>0.11</td>\n",
              "      <td>0.02</td>\n",
              "      <td>-0.02</td>\n",
              "      <td>1.00</td>\n",
              "      <td>-1.00</td>\n",
              "    </tr>\n",
              "    <tr>\n",
              "      <th>PaperlessBilling_Yes</th>\n",
              "      <td>0.19</td>\n",
              "      <td>0.16</td>\n",
              "      <td>0.01</td>\n",
              "      <td>-0.01</td>\n",
              "      <td>0.01</td>\n",
              "      <td>-0.01</td>\n",
              "      <td>0.11</td>\n",
              "      <td>-0.11</td>\n",
              "      <td>-0.02</td>\n",
              "      <td>0.02</td>\n",
              "      <td>-1.00</td>\n",
              "      <td>1.00</td>\n",
              "    </tr>\n",
              "  </tbody>\n",
              "</table>\n",
              "</div>\n",
              "      <button class=\"colab-df-convert\" onclick=\"convertToInteractive('df-8af7306e-7f26-4bc3-9ab1-07fecbc964bf')\"\n",
              "              title=\"Convert this dataframe to an interactive table.\"\n",
              "              style=\"display:none;\">\n",
              "        \n",
              "  <svg xmlns=\"http://www.w3.org/2000/svg\" height=\"24px\"viewBox=\"0 0 24 24\"\n",
              "       width=\"24px\">\n",
              "    <path d=\"M0 0h24v24H0V0z\" fill=\"none\"/>\n",
              "    <path d=\"M18.56 5.44l.94 2.06.94-2.06 2.06-.94-2.06-.94-.94-2.06-.94 2.06-2.06.94zm-11 1L8.5 8.5l.94-2.06 2.06-.94-2.06-.94L8.5 2.5l-.94 2.06-2.06.94zm10 10l.94 2.06.94-2.06 2.06-.94-2.06-.94-.94-2.06-.94 2.06-2.06.94z\"/><path d=\"M17.41 7.96l-1.37-1.37c-.4-.4-.92-.59-1.43-.59-.52 0-1.04.2-1.43.59L10.3 9.45l-7.72 7.72c-.78.78-.78 2.05 0 2.83L4 21.41c.39.39.9.59 1.41.59.51 0 1.02-.2 1.41-.59l7.78-7.78 2.81-2.81c.8-.78.8-2.07 0-2.86zM5.41 20L4 18.59l7.72-7.72 1.47 1.35L5.41 20z\"/>\n",
              "  </svg>\n",
              "      </button>\n",
              "      \n",
              "  <style>\n",
              "    .colab-df-container {\n",
              "      display:flex;\n",
              "      flex-wrap:wrap;\n",
              "      gap: 12px;\n",
              "    }\n",
              "\n",
              "    .colab-df-convert {\n",
              "      background-color: #E8F0FE;\n",
              "      border: none;\n",
              "      border-radius: 50%;\n",
              "      cursor: pointer;\n",
              "      display: none;\n",
              "      fill: #1967D2;\n",
              "      height: 32px;\n",
              "      padding: 0 0 0 0;\n",
              "      width: 32px;\n",
              "    }\n",
              "\n",
              "    .colab-df-convert:hover {\n",
              "      background-color: #E2EBFA;\n",
              "      box-shadow: 0px 1px 2px rgba(60, 64, 67, 0.3), 0px 1px 3px 1px rgba(60, 64, 67, 0.15);\n",
              "      fill: #174EA6;\n",
              "    }\n",
              "\n",
              "    [theme=dark] .colab-df-convert {\n",
              "      background-color: #3B4455;\n",
              "      fill: #D2E3FC;\n",
              "    }\n",
              "\n",
              "    [theme=dark] .colab-df-convert:hover {\n",
              "      background-color: #434B5C;\n",
              "      box-shadow: 0px 1px 3px 1px rgba(0, 0, 0, 0.15);\n",
              "      filter: drop-shadow(0px 1px 2px rgba(0, 0, 0, 0.3));\n",
              "      fill: #FFFFFF;\n",
              "    }\n",
              "  </style>\n",
              "\n",
              "      <script>\n",
              "        const buttonEl =\n",
              "          document.querySelector('#df-8af7306e-7f26-4bc3-9ab1-07fecbc964bf button.colab-df-convert');\n",
              "        buttonEl.style.display =\n",
              "          google.colab.kernel.accessAllowed ? 'block' : 'none';\n",
              "\n",
              "        async function convertToInteractive(key) {\n",
              "          const element = document.querySelector('#df-8af7306e-7f26-4bc3-9ab1-07fecbc964bf');\n",
              "          const dataTable =\n",
              "            await google.colab.kernel.invokeFunction('convertToInteractive',\n",
              "                                                     [key], {});\n",
              "          if (!dataTable) return;\n",
              "\n",
              "          const docLinkHtml = 'Like what you see? Visit the ' +\n",
              "            '<a target=\"_blank\" href=https://colab.research.google.com/notebooks/data_table.ipynb>data table notebook</a>'\n",
              "            + ' to learn more about interactive tables.';\n",
              "          element.innerHTML = '';\n",
              "          dataTable['output_type'] = 'display_data';\n",
              "          await google.colab.output.renderOutput(dataTable, element);\n",
              "          const docLink = document.createElement('div');\n",
              "          docLink.innerHTML = docLinkHtml;\n",
              "          element.appendChild(docLink);\n",
              "        }\n",
              "      </script>\n",
              "    </div>\n",
              "  </div>\n",
              "  "
            ]
          },
          "metadata": {},
          "execution_count": 9
        }
      ]
    },
    {
      "cell_type": "markdown",
      "source": [
        "##Exploring Variables with Multiple Features"
      ],
      "metadata": {
        "id": "VyaLl4SMmxqS"
      },
      "id": "VyaLl4SMmxqS"
    },
    {
      "cell_type": "markdown",
      "source": [
        "Lets look the sampling of each variables with respect to churn..."
      ],
      "metadata": {
        "id": "TdoKDOvKnCzc"
      },
      "id": "TdoKDOvKnCzc"
    },
    {
      "cell_type": "code",
      "source": [
        "multiple_features=['Contract','MultipleLines','InternetService','OnlineSecurity','DeviceProtection','StreamingTV']\n",
        "multiple_data=df[['Churn','Contract','MultipleLines','InternetService','OnlineSecurity','DeviceProtection','StreamingTV']]\n",
        "plot_feature_churn(df,multiple_features)"
      ],
      "metadata": {
        "colab": {
          "base_uri": "https://localhost:8080/",
          "height": 442
        },
        "id": "TxektKISmw6F",
        "outputId": "f4fc7771-76b4-44ba-d850-ae2fde3f04bd"
      },
      "id": "TxektKISmw6F",
      "execution_count": null,
      "outputs": [
        {
          "output_type": "display_data",
          "data": {
            "text/plain": [
              "<Figure size 864x504 with 6 Axes>"
            ],
            "image/png": "[encoded data removed]"
          },
          "metadata": {
            "needs_background": "light"
          }
        }
      ]
    },
    {
      "cell_type": "code",
      "source": [
        "create_correlation_matrix(multiple_data)"
      ],
      "metadata": {
        "colab": {
          "base_uri": "https://localhost:8080/",
          "height": 848
        },
        "id": "5_H8dY-wns46",
        "outputId": "3cd2ddc6-34b8-41f7-b64a-c36afdcfb5dc"
      },
      "id": "5_H8dY-wns46",
      "execution_count": null,
      "outputs": [
        {
          "output_type": "execute_result",
          "data": {
            "text/plain": [
              "                                      Churn  Contract_Month-to-month  \\\n",
              "Churn                                  1.00                     0.41   \n",
              "Contract_Month-to-month                0.41                     1.00   \n",
              "Contract_One year                     -0.18                    -0.57   \n",
              "Contract_Two year                     -0.30                    -0.62   \n",
              "MultipleLines_No                      -0.03                     0.09   \n",
              "MultipleLines_No phone service        -0.01                     0.00   \n",
              "MultipleLines_Yes                      0.04                    -0.09   \n",
              "InternetService_DSL                   -0.12                    -0.07   \n",
              "InternetService_Fiber optic            0.31                     0.24   \n",
              "InternetService_No                    -0.23                    -0.22   \n",
              "OnlineSecurity_No                      0.34                     0.40   \n",
              "OnlineSecurity_No internet service    -0.23                    -0.22   \n",
              "OnlineSecurity_Yes                    -0.17                    -0.25   \n",
              "DeviceProtection_No                    0.25                     0.40   \n",
              "DeviceProtection_No internet service  -0.23                    -0.22   \n",
              "DeviceProtection_Yes                  -0.07                    -0.23   \n",
              "StreamingTV_No                         0.13                     0.30   \n",
              "StreamingTV_No internet service       -0.23                    -0.22   \n",
              "StreamingTV_Yes                        0.06                    -0.11   \n",
              "\n",
              "                                      Contract_One year  Contract_Two year  \\\n",
              "Churn                                             -0.18              -0.30   \n",
              "Contract_Month-to-month                           -0.57              -0.62   \n",
              "Contract_One year                                  1.00              -0.29   \n",
              "Contract_Two year                                 -0.29               1.00   \n",
              "MultipleLines_No                                   0.00              -0.10   \n",
              "MultipleLines_No phone service                     0.00              -0.00   \n",
              "MultipleLines_Yes                                 -0.00               0.11   \n",
              "InternetService_DSL                                0.05               0.03   \n",
              "InternetService_Fiber optic                       -0.08              -0.21   \n",
              "InternetService_No                                 0.04               0.22   \n",
              "OnlineSecurity_No                                 -0.12              -0.35   \n",
              "OnlineSecurity_No internet service                 0.04               0.22   \n",
              "OnlineSecurity_Yes                                 0.10               0.19   \n",
              "DeviceProtection_No                               -0.13              -0.34   \n",
              "DeviceProtection_No internet service               0.04               0.22   \n",
              "DeviceProtection_Yes                               0.10               0.17   \n",
              "StreamingTV_No                                    -0.09              -0.26   \n",
              "StreamingTV_No internet service                    0.04               0.22   \n",
              "StreamingTV_Yes                                    0.06               0.07   \n",
              "\n",
              "                                      MultipleLines_No  \\\n",
              "Churn                                            -0.03   \n",
              "Contract_Month-to-month                           0.09   \n",
              "Contract_One year                                 0.00   \n",
              "Contract_Two year                                -0.10   \n",
              "MultipleLines_No                                  1.00   \n",
              "MultipleLines_No phone service                   -0.32   \n",
              "MultipleLines_Yes                                -0.82   \n",
              "InternetService_DSL                              -0.07   \n",
              "InternetService_Fiber optic                      -0.19   \n",
              "InternetService_No                                0.31   \n",
              "OnlineSecurity_No                                -0.12   \n",
              "OnlineSecurity_No internet service                0.31   \n",
              "OnlineSecurity_Yes                               -0.15   \n",
              "DeviceProtection_No                              -0.03   \n",
              "DeviceProtection_No internet service              0.31   \n",
              "DeviceProtection_Yes                             -0.24   \n",
              "StreamingTV_No                                    0.00   \n",
              "StreamingTV_No internet service                   0.31   \n",
              "StreamingTV_Yes                                  -0.27   \n",
              "\n",
              "                                      MultipleLines_No phone service  \\\n",
              "Churn                                                          -0.01   \n",
              "Contract_Month-to-month                                         0.00   \n",
              "Contract_One year                                               0.00   \n",
              "Contract_Two year                                              -0.00   \n",
              "MultipleLines_No                                               -0.32   \n",
              "MultipleLines_No phone service                                  1.00   \n",
              "MultipleLines_Yes                                              -0.28   \n",
              "InternetService_DSL                                             0.45   \n",
              "InternetService_Fiber optic                                    -0.29   \n",
              "InternetService_No                                             -0.17   \n",
              "OnlineSecurity_No                                               0.06   \n",
              "OnlineSecurity_No internet service                             -0.17   \n",
              "OnlineSecurity_Yes                                              0.09   \n",
              "DeviceProtection_No                                             0.07   \n",
              "DeviceProtection_No internet service                           -0.17   \n",
              "DeviceProtection_Yes                                            0.07   \n",
              "StreamingTV_No                                                  0.12   \n",
              "StreamingTV_No internet service                                -0.17   \n",
              "StreamingTV_Yes                                                 0.02   \n",
              "\n",
              "                                      MultipleLines_Yes  InternetService_DSL  \\\n",
              "Churn                                              0.04                -0.12   \n",
              "Contract_Month-to-month                           -0.09                -0.07   \n",
              "Contract_One year                                 -0.00                 0.05   \n",
              "Contract_Two year                                  0.11                 0.03   \n",
              "MultipleLines_No                                  -0.82                -0.07   \n",
              "MultipleLines_No phone service                    -0.28                 0.45   \n",
              "MultipleLines_Yes                                  1.00                -0.20   \n",
              "InternetService_DSL                               -0.20                 1.00   \n",
              "InternetService_Fiber optic                        0.37                -0.64   \n",
              "InternetService_No                                -0.21                -0.38   \n",
              "OnlineSecurity_No                                  0.08                 0.02   \n",
              "OnlineSecurity_No internet service                -0.21                -0.38   \n",
              "OnlineSecurity_Yes                                 0.10                 0.32   \n",
              "DeviceProtection_No                               -0.02                 0.18   \n",
              "DeviceProtection_No internet service              -0.21                -0.38   \n",
              "DeviceProtection_Yes                               0.20                 0.15   \n",
              "StreamingTV_No                                    -0.08                 0.30   \n",
              "StreamingTV_No internet service                   -0.21                -0.38   \n",
              "StreamingTV_Yes                                    0.26                 0.02   \n",
              "\n",
              "                                      InternetService_Fiber optic  \\\n",
              "Churn                                                        0.31   \n",
              "Contract_Month-to-month                                      0.24   \n",
              "Contract_One year                                           -0.08   \n",
              "Contract_Two year                                           -0.21   \n",
              "MultipleLines_No                                            -0.19   \n",
              "MultipleLines_No phone service                              -0.29   \n",
              "MultipleLines_Yes                                            0.37   \n",
              "InternetService_DSL                                         -0.64   \n",
              "InternetService_Fiber optic                                  1.00   \n",
              "InternetService_No                                          -0.47   \n",
              "OnlineSecurity_No                                            0.41   \n",
              "OnlineSecurity_No internet service                          -0.47   \n",
              "OnlineSecurity_Yes                                          -0.03   \n",
              "DeviceProtection_No                                          0.22   \n",
              "DeviceProtection_No internet service                        -0.47   \n",
              "DeviceProtection_Yes                                         0.18   \n",
              "StreamingTV_No                                               0.06   \n",
              "StreamingTV_No internet service                             -0.47   \n",
              "StreamingTV_Yes                                              0.33   \n",
              "\n",
              "                                      InternetService_No  OnlineSecurity_No  \\\n",
              "Churn                                              -0.23               0.34   \n",
              "Contract_Month-to-month                            -0.22               0.40   \n",
              "Contract_One year                                   0.04              -0.12   \n",
              "Contract_Two year                                   0.22              -0.35   \n",
              "MultipleLines_No                                    0.31              -0.12   \n",
              "MultipleLines_No phone service                     -0.17               0.06   \n",
              "MultipleLines_Yes                                  -0.21               0.08   \n",
              "InternetService_DSL                                -0.38               0.02   \n",
              "InternetService_Fiber optic                        -0.47               0.41   \n",
              "InternetService_No                                  1.00              -0.52   \n",
              "OnlineSecurity_No                                  -0.52               1.00   \n",
              "OnlineSecurity_No internet service                  1.00              -0.52   \n",
              "OnlineSecurity_Yes                                 -0.33              -0.63   \n",
              "DeviceProtection_No                                -0.47               0.37   \n",
              "DeviceProtection_No internet service                1.00              -0.52   \n",
              "DeviceProtection_Yes                               -0.38               0.06   \n",
              "StreamingTV_No                                     -0.43               0.26   \n",
              "StreamingTV_No internet service                     1.00              -0.52   \n",
              "StreamingTV_Yes                                    -0.42               0.18   \n",
              "\n",
              "                                      OnlineSecurity_No internet service  \\\n",
              "Churn                                                              -0.23   \n",
              "Contract_Month-to-month                                            -0.22   \n",
              "Contract_One year                                                   0.04   \n",
              "Contract_Two year                                                   0.22   \n",
              "MultipleLines_No                                                    0.31   \n",
              "MultipleLines_No phone service                                     -0.17   \n",
              "MultipleLines_Yes                                                  -0.21   \n",
              "InternetService_DSL                                                -0.38   \n",
              "InternetService_Fiber optic                                        -0.47   \n",
              "InternetService_No                                                  1.00   \n",
              "OnlineSecurity_No                                                  -0.52   \n",
              "OnlineSecurity_No internet service                                  1.00   \n",
              "OnlineSecurity_Yes                                                 -0.33   \n",
              "DeviceProtection_No                                                -0.47   \n",
              "DeviceProtection_No internet service                                1.00   \n",
              "DeviceProtection_Yes                                               -0.38   \n",
              "StreamingTV_No                                                     -0.43   \n",
              "StreamingTV_No internet service                                     1.00   \n",
              "StreamingTV_Yes                                                    -0.42   \n",
              "\n",
              "                                      OnlineSecurity_Yes  DeviceProtection_No  \\\n",
              "Churn                                              -0.17                 0.25   \n",
              "Contract_Month-to-month                            -0.25                 0.40   \n",
              "Contract_One year                                   0.10                -0.13   \n",
              "Contract_Two year                                   0.19                -0.34   \n",
              "MultipleLines_No                                   -0.15                -0.03   \n",
              "MultipleLines_No phone service                      0.09                 0.07   \n",
              "MultipleLines_Yes                                   0.10                -0.02   \n",
              "InternetService_DSL                                 0.32                 0.18   \n",
              "InternetService_Fiber optic                        -0.03                 0.22   \n",
              "InternetService_No                                 -0.33                -0.47   \n",
              "OnlineSecurity_No                                  -0.63                 0.37   \n",
              "OnlineSecurity_No internet service                 -0.33                -0.47   \n",
              "OnlineSecurity_Yes                                  1.00                 0.01   \n",
              "DeviceProtection_No                                 0.01                 1.00   \n",
              "DeviceProtection_No internet service               -0.33                -0.47   \n",
              "DeviceProtection_Yes                                0.28                -0.64   \n",
              "StreamingTV_No                                      0.11                 0.42   \n",
              "StreamingTV_No internet service                    -0.33                -0.47   \n",
              "StreamingTV_Yes                                     0.18                -0.03   \n",
              "\n",
              "                                      DeviceProtection_No internet service  \\\n",
              "Churn                                                                -0.23   \n",
              "Contract_Month-to-month                                              -0.22   \n",
              "Contract_One year                                                     0.04   \n",
              "Contract_Two year                                                     0.22   \n",
              "MultipleLines_No                                                      0.31   \n",
              "MultipleLines_No phone service                                       -0.17   \n",
              "MultipleLines_Yes                                                    -0.21   \n",
              "InternetService_DSL                                                  -0.38   \n",
              "InternetService_Fiber optic                                          -0.47   \n",
              "InternetService_No                                                    1.00   \n",
              "OnlineSecurity_No                                                    -0.52   \n",
              "OnlineSecurity_No internet service                                    1.00   \n",
              "OnlineSecurity_Yes                                                   -0.33   \n",
              "DeviceProtection_No                                                  -0.47   \n",
              "DeviceProtection_No internet service                                  1.00   \n",
              "DeviceProtection_Yes                                                 -0.38   \n",
              "StreamingTV_No                                                       -0.43   \n",
              "StreamingTV_No internet service                                       1.00   \n",
              "StreamingTV_Yes                                                      -0.42   \n",
              "\n",
              "                                      DeviceProtection_Yes  StreamingTV_No  \\\n",
              "Churn                                                -0.07            0.13   \n",
              "Contract_Month-to-month                              -0.23            0.30   \n",
              "Contract_One year                                     0.10           -0.09   \n",
              "Contract_Two year                                     0.17           -0.26   \n",
              "MultipleLines_No                                     -0.24            0.00   \n",
              "MultipleLines_No phone service                        0.07            0.12   \n",
              "MultipleLines_Yes                                     0.20           -0.08   \n",
              "InternetService_DSL                                   0.15            0.30   \n",
              "InternetService_Fiber optic                           0.18            0.06   \n",
              "InternetService_No                                   -0.38           -0.43   \n",
              "OnlineSecurity_No                                     0.06            0.26   \n",
              "OnlineSecurity_No internet service                   -0.38           -0.43   \n",
              "OnlineSecurity_Yes                                    0.28            0.11   \n",
              "DeviceProtection_No                                  -0.64            0.42   \n",
              "DeviceProtection_No internet service                 -0.38           -0.43   \n",
              "DeviceProtection_Yes                                  1.00           -0.07   \n",
              "StreamingTV_No                                       -0.07            1.00   \n",
              "StreamingTV_No internet service                      -0.38           -0.43   \n",
              "StreamingTV_Yes                                       0.39           -0.64   \n",
              "\n",
              "                                      StreamingTV_No internet service  \\\n",
              "Churn                                                           -0.23   \n",
              "Contract_Month-to-month                                         -0.22   \n",
              "Contract_One year                                                0.04   \n",
              "Contract_Two year                                                0.22   \n",
              "MultipleLines_No                                                 0.31   \n",
              "MultipleLines_No phone service                                  -0.17   \n",
              "MultipleLines_Yes                                               -0.21   \n",
              "InternetService_DSL                                             -0.38   \n",
              "InternetService_Fiber optic                                     -0.47   \n",
              "InternetService_No                                               1.00   \n",
              "OnlineSecurity_No                                               -0.52   \n",
              "OnlineSecurity_No internet service                               1.00   \n",
              "OnlineSecurity_Yes                                              -0.33   \n",
              "DeviceProtection_No                                             -0.47   \n",
              "DeviceProtection_No internet service                             1.00   \n",
              "DeviceProtection_Yes                                            -0.38   \n",
              "StreamingTV_No                                                  -0.43   \n",
              "StreamingTV_No internet service                                  1.00   \n",
              "StreamingTV_Yes                                                 -0.42   \n",
              "\n",
              "                                      StreamingTV_Yes  \n",
              "Churn                                            0.06  \n",
              "Contract_Month-to-month                         -0.11  \n",
              "Contract_One year                                0.06  \n",
              "Contract_Two year                                0.07  \n",
              "MultipleLines_No                                -0.27  \n",
              "MultipleLines_No phone service                   0.02  \n",
              "MultipleLines_Yes                                0.26  \n",
              "InternetService_DSL                              0.02  \n",
              "InternetService_Fiber optic                      0.33  \n",
              "InternetService_No                              -0.42  \n",
              "OnlineSecurity_No                                0.18  \n",
              "OnlineSecurity_No internet service              -0.42  \n",
              "OnlineSecurity_Yes                               0.18  \n",
              "DeviceProtection_No                             -0.03  \n",
              "DeviceProtection_No internet service            -0.42  \n",
              "DeviceProtection_Yes                             0.39  \n",
              "StreamingTV_No                                  -0.64  \n",
              "StreamingTV_No internet service                 -0.42  \n",
              "StreamingTV_Yes                                  1.00  "
            ],
            "text/html": [
              "\n",
              "  <div id=\"df-e19255a1-4623-4bdd-a61f-776eda93868d\">\n",
              "    <div class=\"colab-df-container\">\n",
              "      <div>\n",
              "<style scoped>\n",
              "    .dataframe tbody tr th:only-of-type {\n",
              "        vertical-align: middle;\n",
              "    }\n",
              "\n",
              "    .dataframe tbody tr th {\n",
              "        vertical-align: top;\n",
              "    }\n",
              "\n",
              "    .dataframe thead th {\n",
              "        text-align: right;\n",
              "    }\n",
              "</style>\n",
              "<table border=\"1\" class=\"dataframe\">\n",
              "  <thead>\n",
              "    <tr style=\"text-align: right;\">\n",
              "      <th></th>\n",
              "      <th>Churn</th>\n",
              "      <th>Contract_Month-to-month</th>\n",
              "      <th>Contract_One year</th>\n",
              "      <th>Contract_Two year</th>\n",
              "      <th>MultipleLines_No</th>\n",
              "      <th>MultipleLines_No phone service</th>\n",
              "      <th>MultipleLines_Yes</th>\n",
              "      <th>InternetService_DSL</th>\n",
              "      <th>InternetService_Fiber optic</th>\n",
              "      <th>InternetService_No</th>\n",
              "      <th>OnlineSecurity_No</th>\n",
              "      <th>OnlineSecurity_No internet service</th>\n",
              "      <th>OnlineSecurity_Yes</th>\n",
              "      <th>DeviceProtection_No</th>\n",
              "      <th>DeviceProtection_No internet service</th>\n",
              "      <th>DeviceProtection_Yes</th>\n",
              "      <th>StreamingTV_No</th>\n",
              "      <th>StreamingTV_No internet service</th>\n",
              "      <th>StreamingTV_Yes</th>\n",
              "    </tr>\n",
              "  </thead>\n",
              "  <tbody>\n",
              "    <tr>\n",
              "      <th>Churn</th>\n",
              "      <td>1.00</td>\n",
              "      <td>0.41</td>\n",
              "      <td>-0.18</td>\n",
              "      <td>-0.30</td>\n",
              "      <td>-0.03</td>\n",
              "      <td>-0.01</td>\n",
              "      <td>0.04</td>\n",
              "      <td>-0.12</td>\n",
              "      <td>0.31</td>\n",
              "      <td>-0.23</td>\n",
              "      <td>0.34</td>\n",
              "      <td>-0.23</td>\n",
              "      <td>-0.17</td>\n",
              "      <td>0.25</td>\n",
              "      <td>-0.23</td>\n",
              "      <td>-0.07</td>\n",
              "      <td>0.13</td>\n",
              "      <td>-0.23</td>\n",
              "      <td>0.06</td>\n",
              "    </tr>\n",
              "    <tr>\n",
              "      <th>Contract_Month-to-month</th>\n",
              "      <td>0.41</td>\n",
              "      <td>1.00</td>\n",
              "      <td>-0.57</td>\n",
              "      <td>-0.62</td>\n",
              "      <td>0.09</td>\n",
              "      <td>0.00</td>\n",
              "      <td>-0.09</td>\n",
              "      <td>-0.07</td>\n",
              "      <td>0.24</td>\n",
              "      <td>-0.22</td>\n",
              "      <td>0.40</td>\n",
              "      <td>-0.22</td>\n",
              "      <td>-0.25</td>\n",
              "      <td>0.40</td>\n",
              "      <td>-0.22</td>\n",
              "      <td>-0.23</td>\n",
              "      <td>0.30</td>\n",
              "      <td>-0.22</td>\n",
              "      <td>-0.11</td>\n",
              "    </tr>\n",
              "    <tr>\n",
              "      <th>Contract_One year</th>\n",
              "      <td>-0.18</td>\n",
              "      <td>-0.57</td>\n",
              "      <td>1.00</td>\n",
              "      <td>-0.29</td>\n",
              "      <td>0.00</td>\n",
              "      <td>0.00</td>\n",
              "      <td>-0.00</td>\n",
              "      <td>0.05</td>\n",
              "      <td>-0.08</td>\n",
              "      <td>0.04</td>\n",
              "      <td>-0.12</td>\n",
              "      <td>0.04</td>\n",
              "      <td>0.10</td>\n",
              "      <td>-0.13</td>\n",
              "      <td>0.04</td>\n",
              "      <td>0.10</td>\n",
              "      <td>-0.09</td>\n",
              "      <td>0.04</td>\n",
              "      <td>0.06</td>\n",
              "    </tr>\n",
              "    <tr>\n",
              "      <th>Contract_Two year</th>\n",
              "      <td>-0.30</td>\n",
              "      <td>-0.62</td>\n",
              "      <td>-0.29</td>\n",
              "      <td>1.00</td>\n",
              "      <td>-0.10</td>\n",
              "      <td>-0.00</td>\n",
              "      <td>0.11</td>\n",
              "      <td>0.03</td>\n",
              "      <td>-0.21</td>\n",
              "      <td>0.22</td>\n",
              "      <td>-0.35</td>\n",
              "      <td>0.22</td>\n",
              "      <td>0.19</td>\n",
              "      <td>-0.34</td>\n",
              "      <td>0.22</td>\n",
              "      <td>0.17</td>\n",
              "      <td>-0.26</td>\n",
              "      <td>0.22</td>\n",
              "      <td>0.07</td>\n",
              "    </tr>\n",
              "    <tr>\n",
              "      <th>MultipleLines_No</th>\n",
              "      <td>-0.03</td>\n",
              "      <td>0.09</td>\n",
              "      <td>0.00</td>\n",
              "      <td>-0.10</td>\n",
              "      <td>1.00</td>\n",
              "      <td>-0.32</td>\n",
              "      <td>-0.82</td>\n",
              "      <td>-0.07</td>\n",
              "      <td>-0.19</td>\n",
              "      <td>0.31</td>\n",
              "      <td>-0.12</td>\n",
              "      <td>0.31</td>\n",
              "      <td>-0.15</td>\n",
              "      <td>-0.03</td>\n",
              "      <td>0.31</td>\n",
              "      <td>-0.24</td>\n",
              "      <td>0.00</td>\n",
              "      <td>0.31</td>\n",
              "      <td>-0.27</td>\n",
              "    </tr>\n",
              "    <tr>\n",
              "      <th>MultipleLines_No phone service</th>\n",
              "      <td>-0.01</td>\n",
              "      <td>0.00</td>\n",
              "      <td>0.00</td>\n",
              "      <td>-0.00</td>\n",
              "      <td>-0.32</td>\n",
              "      <td>1.00</td>\n",
              "      <td>-0.28</td>\n",
              "      <td>0.45</td>\n",
              "      <td>-0.29</td>\n",
              "      <td>-0.17</td>\n",
              "      <td>0.06</td>\n",
              "      <td>-0.17</td>\n",
              "      <td>0.09</td>\n",
              "      <td>0.07</td>\n",
              "      <td>-0.17</td>\n",
              "      <td>0.07</td>\n",
              "      <td>0.12</td>\n",
              "      <td>-0.17</td>\n",
              "      <td>0.02</td>\n",
              "    </tr>\n",
              "    <tr>\n",
              "      <th>MultipleLines_Yes</th>\n",
              "      <td>0.04</td>\n",
              "      <td>-0.09</td>\n",
              "      <td>-0.00</td>\n",
              "      <td>0.11</td>\n",
              "      <td>-0.82</td>\n",
              "      <td>-0.28</td>\n",
              "      <td>1.00</td>\n",
              "      <td>-0.20</td>\n",
              "      <td>0.37</td>\n",
              "      <td>-0.21</td>\n",
              "      <td>0.08</td>\n",
              "      <td>-0.21</td>\n",
              "      <td>0.10</td>\n",
              "      <td>-0.02</td>\n",
              "      <td>-0.21</td>\n",
              "      <td>0.20</td>\n",
              "      <td>-0.08</td>\n",
              "      <td>-0.21</td>\n",
              "      <td>0.26</td>\n",
              "    </tr>\n",
              "    <tr>\n",
              "      <th>InternetService_DSL</th>\n",
              "      <td>-0.12</td>\n",
              "      <td>-0.07</td>\n",
              "      <td>0.05</td>\n",
              "      <td>0.03</td>\n",
              "      <td>-0.07</td>\n",
              "      <td>0.45</td>\n",
              "      <td>-0.20</td>\n",
              "      <td>1.00</td>\n",
              "      <td>-0.64</td>\n",
              "      <td>-0.38</td>\n",
              "      <td>0.02</td>\n",
              "      <td>-0.38</td>\n",
              "      <td>0.32</td>\n",
              "      <td>0.18</td>\n",
              "      <td>-0.38</td>\n",
              "      <td>0.15</td>\n",
              "      <td>0.30</td>\n",
              "      <td>-0.38</td>\n",
              "      <td>0.02</td>\n",
              "    </tr>\n",
              "    <tr>\n",
              "      <th>InternetService_Fiber optic</th>\n",
              "      <td>0.31</td>\n",
              "      <td>0.24</td>\n",
              "      <td>-0.08</td>\n",
              "      <td>-0.21</td>\n",
              "      <td>-0.19</td>\n",
              "      <td>-0.29</td>\n",
              "      <td>0.37</td>\n",
              "      <td>-0.64</td>\n",
              "      <td>1.00</td>\n",
              "      <td>-0.47</td>\n",
              "      <td>0.41</td>\n",
              "      <td>-0.47</td>\n",
              "      <td>-0.03</td>\n",
              "      <td>0.22</td>\n",
              "      <td>-0.47</td>\n",
              "      <td>0.18</td>\n",
              "      <td>0.06</td>\n",
              "      <td>-0.47</td>\n",
              "      <td>0.33</td>\n",
              "    </tr>\n",
              "    <tr>\n",
              "      <th>InternetService_No</th>\n",
              "      <td>-0.23</td>\n",
              "      <td>-0.22</td>\n",
              "      <td>0.04</td>\n",
              "      <td>0.22</td>\n",
              "      <td>0.31</td>\n",
              "      <td>-0.17</td>\n",
              "      <td>-0.21</td>\n",
              "      <td>-0.38</td>\n",
              "      <td>-0.47</td>\n",
              "      <td>1.00</td>\n",
              "      <td>-0.52</td>\n",
              "      <td>1.00</td>\n",
              "      <td>-0.33</td>\n",
              "      <td>-0.47</td>\n",
              "      <td>1.00</td>\n",
              "      <td>-0.38</td>\n",
              "      <td>-0.43</td>\n",
              "      <td>1.00</td>\n",
              "      <td>-0.42</td>\n",
              "    </tr>\n",
              "    <tr>\n",
              "      <th>OnlineSecurity_No</th>\n",
              "      <td>0.34</td>\n",
              "      <td>0.40</td>\n",
              "      <td>-0.12</td>\n",
              "      <td>-0.35</td>\n",
              "      <td>-0.12</td>\n",
              "      <td>0.06</td>\n",
              "      <td>0.08</td>\n",
              "      <td>0.02</td>\n",
              "      <td>0.41</td>\n",
              "      <td>-0.52</td>\n",
              "      <td>1.00</td>\n",
              "      <td>-0.52</td>\n",
              "      <td>-0.63</td>\n",
              "      <td>0.37</td>\n",
              "      <td>-0.52</td>\n",
              "      <td>0.06</td>\n",
              "      <td>0.26</td>\n",
              "      <td>-0.52</td>\n",
              "      <td>0.18</td>\n",
              "    </tr>\n",
              "    <tr>\n",
              "      <th>OnlineSecurity_No internet service</th>\n",
              "      <td>-0.23</td>\n",
              "      <td>-0.22</td>\n",
              "      <td>0.04</td>\n",
              "      <td>0.22</td>\n",
              "      <td>0.31</td>\n",
              "      <td>-0.17</td>\n",
              "      <td>-0.21</td>\n",
              "      <td>-0.38</td>\n",
              "      <td>-0.47</td>\n",
              "      <td>1.00</td>\n",
              "      <td>-0.52</td>\n",
              "      <td>1.00</td>\n",
              "      <td>-0.33</td>\n",
              "      <td>-0.47</td>\n",
              "      <td>1.00</td>\n",
              "      <td>-0.38</td>\n",
              "      <td>-0.43</td>\n",
              "      <td>1.00</td>\n",
              "      <td>-0.42</td>\n",
              "    </tr>\n",
              "    <tr>\n",
              "      <th>OnlineSecurity_Yes</th>\n",
              "      <td>-0.17</td>\n",
              "      <td>-0.25</td>\n",
              "      <td>0.10</td>\n",
              "      <td>0.19</td>\n",
              "      <td>-0.15</td>\n",
              "      <td>0.09</td>\n",
              "      <td>0.10</td>\n",
              "      <td>0.32</td>\n",
              "      <td>-0.03</td>\n",
              "      <td>-0.33</td>\n",
              "      <td>-0.63</td>\n",
              "      <td>-0.33</td>\n",
              "      <td>1.00</td>\n",
              "      <td>0.01</td>\n",
              "      <td>-0.33</td>\n",
              "      <td>0.28</td>\n",
              "      <td>0.11</td>\n",
              "      <td>-0.33</td>\n",
              "      <td>0.18</td>\n",
              "    </tr>\n",
              "    <tr>\n",
              "      <th>DeviceProtection_No</th>\n",
              "      <td>0.25</td>\n",
              "      <td>0.40</td>\n",
              "      <td>-0.13</td>\n",
              "      <td>-0.34</td>\n",
              "      <td>-0.03</td>\n",
              "      <td>0.07</td>\n",
              "      <td>-0.02</td>\n",
              "      <td>0.18</td>\n",
              "      <td>0.22</td>\n",
              "      <td>-0.47</td>\n",
              "      <td>0.37</td>\n",
              "      <td>-0.47</td>\n",
              "      <td>0.01</td>\n",
              "      <td>1.00</td>\n",
              "      <td>-0.47</td>\n",
              "      <td>-0.64</td>\n",
              "      <td>0.42</td>\n",
              "      <td>-0.47</td>\n",
              "      <td>-0.03</td>\n",
              "    </tr>\n",
              "    <tr>\n",
              "      <th>DeviceProtection_No internet service</th>\n",
              "      <td>-0.23</td>\n",
              "      <td>-0.22</td>\n",
              "      <td>0.04</td>\n",
              "      <td>0.22</td>\n",
              "      <td>0.31</td>\n",
              "      <td>-0.17</td>\n",
              "      <td>-0.21</td>\n",
              "      <td>-0.38</td>\n",
              "      <td>-0.47</td>\n",
              "      <td>1.00</td>\n",
              "      <td>-0.52</td>\n",
              "      <td>1.00</td>\n",
              "      <td>-0.33</td>\n",
              "      <td>-0.47</td>\n",
              "      <td>1.00</td>\n",
              "      <td>-0.38</td>\n",
              "      <td>-0.43</td>\n",
              "      <td>1.00</td>\n",
              "      <td>-0.42</td>\n",
              "    </tr>\n",
              "    <tr>\n",
              "      <th>DeviceProtection_Yes</th>\n",
              "      <td>-0.07</td>\n",
              "      <td>-0.23</td>\n",
              "      <td>0.10</td>\n",
              "      <td>0.17</td>\n",
              "      <td>-0.24</td>\n",
              "      <td>0.07</td>\n",
              "      <td>0.20</td>\n",
              "      <td>0.15</td>\n",
              "      <td>0.18</td>\n",
              "      <td>-0.38</td>\n",
              "      <td>0.06</td>\n",
              "      <td>-0.38</td>\n",
              "      <td>0.28</td>\n",
              "      <td>-0.64</td>\n",
              "      <td>-0.38</td>\n",
              "      <td>1.00</td>\n",
              "      <td>-0.07</td>\n",
              "      <td>-0.38</td>\n",
              "      <td>0.39</td>\n",
              "    </tr>\n",
              "    <tr>\n",
              "      <th>StreamingTV_No</th>\n",
              "      <td>0.13</td>\n",
              "      <td>0.30</td>\n",
              "      <td>-0.09</td>\n",
              "      <td>-0.26</td>\n",
              "      <td>0.00</td>\n",
              "      <td>0.12</td>\n",
              "      <td>-0.08</td>\n",
              "      <td>0.30</td>\n",
              "      <td>0.06</td>\n",
              "      <td>-0.43</td>\n",
              "      <td>0.26</td>\n",
              "      <td>-0.43</td>\n",
              "      <td>0.11</td>\n",
              "      <td>0.42</td>\n",
              "      <td>-0.43</td>\n",
              "      <td>-0.07</td>\n",
              "      <td>1.00</td>\n",
              "      <td>-0.43</td>\n",
              "      <td>-0.64</td>\n",
              "    </tr>\n",
              "    <tr>\n",
              "      <th>StreamingTV_No internet service</th>\n",
              "      <td>-0.23</td>\n",
              "      <td>-0.22</td>\n",
              "      <td>0.04</td>\n",
              "      <td>0.22</td>\n",
              "      <td>0.31</td>\n",
              "      <td>-0.17</td>\n",
              "      <td>-0.21</td>\n",
              "      <td>-0.38</td>\n",
              "      <td>-0.47</td>\n",
              "      <td>1.00</td>\n",
              "      <td>-0.52</td>\n",
              "      <td>1.00</td>\n",
              "      <td>-0.33</td>\n",
              "      <td>-0.47</td>\n",
              "      <td>1.00</td>\n",
              "      <td>-0.38</td>\n",
              "      <td>-0.43</td>\n",
              "      <td>1.00</td>\n",
              "      <td>-0.42</td>\n",
              "    </tr>\n",
              "    <tr>\n",
              "      <th>StreamingTV_Yes</th>\n",
              "      <td>0.06</td>\n",
              "      <td>-0.11</td>\n",
              "      <td>0.06</td>\n",
              "      <td>0.07</td>\n",
              "      <td>-0.27</td>\n",
              "      <td>0.02</td>\n",
              "      <td>0.26</td>\n",
              "      <td>0.02</td>\n",
              "      <td>0.33</td>\n",
              "      <td>-0.42</td>\n",
              "      <td>0.18</td>\n",
              "      <td>-0.42</td>\n",
              "      <td>0.18</td>\n",
              "      <td>-0.03</td>\n",
              "      <td>-0.42</td>\n",
              "      <td>0.39</td>\n",
              "      <td>-0.64</td>\n",
              "      <td>-0.42</td>\n",
              "      <td>1.00</td>\n",
              "    </tr>\n",
              "  </tbody>\n",
              "</table>\n",
              "</div>\n",
              "      <button class=\"colab-df-convert\" onclick=\"convertToInteractive('df-e19255a1-4623-4bdd-a61f-776eda93868d')\"\n",
              "              title=\"Convert this dataframe to an interactive table.\"\n",
              "              style=\"display:none;\">\n",
              "        \n",
              "  <svg xmlns=\"http://www.w3.org/2000/svg\" height=\"24px\"viewBox=\"0 0 24 24\"\n",
              "       width=\"24px\">\n",
              "    <path d=\"M0 0h24v24H0V0z\" fill=\"none\"/>\n",
              "    <path d=\"M18.56 5.44l.94 2.06.94-2.06 2.06-.94-2.06-.94-.94-2.06-.94 2.06-2.06.94zm-11 1L8.5 8.5l.94-2.06 2.06-.94-2.06-.94L8.5 2.5l-.94 2.06-2.06.94zm10 10l.94 2.06.94-2.06 2.06-.94-2.06-.94-.94-2.06-.94 2.06-2.06.94z\"/><path d=\"M17.41 7.96l-1.37-1.37c-.4-.4-.92-.59-1.43-.59-.52 0-1.04.2-1.43.59L10.3 9.45l-7.72 7.72c-.78.78-.78 2.05 0 2.83L4 21.41c.39.39.9.59 1.41.59.51 0 1.02-.2 1.41-.59l7.78-7.78 2.81-2.81c.8-.78.8-2.07 0-2.86zM5.41 20L4 18.59l7.72-7.72 1.47 1.35L5.41 20z\"/>\n",
              "  </svg>\n",
              "      </button>\n",
              "      \n",
              "  <style>\n",
              "    .colab-df-container {\n",
              "      display:flex;\n",
              "      flex-wrap:wrap;\n",
              "      gap: 12px;\n",
              "    }\n",
              "\n",
              "    .colab-df-convert {\n",
              "      background-color: #E8F0FE;\n",
              "      border: none;\n",
              "      border-radius: 50%;\n",
              "      cursor: pointer;\n",
              "      display: none;\n",
              "      fill: #1967D2;\n",
              "      height: 32px;\n",
              "      padding: 0 0 0 0;\n",
              "      width: 32px;\n",
              "    }\n",
              "\n",
              "    .colab-df-convert:hover {\n",
              "      background-color: #E2EBFA;\n",
              "      box-shadow: 0px 1px 2px rgba(60, 64, 67, 0.3), 0px 1px 3px 1px rgba(60, 64, 67, 0.15);\n",
              "      fill: #174EA6;\n",
              "    }\n",
              "\n",
              "    [theme=dark] .colab-df-convert {\n",
              "      background-color: #3B4455;\n",
              "      fill: #D2E3FC;\n",
              "    }\n",
              "\n",
              "    [theme=dark] .colab-df-convert:hover {\n",
              "      background-color: #434B5C;\n",
              "      box-shadow: 0px 1px 3px 1px rgba(0, 0, 0, 0.15);\n",
              "      filter: drop-shadow(0px 1px 2px rgba(0, 0, 0, 0.3));\n",
              "      fill: #FFFFFF;\n",
              "    }\n",
              "  </style>\n",
              "\n",
              "      <script>\n",
              "        const buttonEl =\n",
              "          document.querySelector('#df-e19255a1-4623-4bdd-a61f-776eda93868d button.colab-df-convert');\n",
              "        buttonEl.style.display =\n",
              "          google.colab.kernel.accessAllowed ? 'block' : 'none';\n",
              "\n",
              "        async function convertToInteractive(key) {\n",
              "          const element = document.querySelector('#df-e19255a1-4623-4bdd-a61f-776eda93868d');\n",
              "          const dataTable =\n",
              "            await google.colab.kernel.invokeFunction('convertToInteractive',\n",
              "                                                     [key], {});\n",
              "          if (!dataTable) return;\n",
              "\n",
              "          const docLinkHtml = 'Like what you see? Visit the ' +\n",
              "            '<a target=\"_blank\" href=https://colab.research.google.com/notebooks/data_table.ipynb>data table notebook</a>'\n",
              "            + ' to learn more about interactive tables.';\n",
              "          element.innerHTML = '';\n",
              "          dataTable['output_type'] = 'display_data';\n",
              "          await google.colab.output.renderOutput(dataTable, element);\n",
              "          const docLink = document.createElement('div');\n",
              "          docLink.innerHTML = docLinkHtml;\n",
              "          element.appendChild(docLink);\n",
              "        }\n",
              "      </script>\n",
              "    </div>\n",
              "  </div>\n",
              "  "
            ]
          },
          "metadata": {},
          "execution_count": 11
        }
      ]
    },
    {
      "cell_type": "markdown",
      "source": [
        "##Exploring Numerical Features"
      ],
      "metadata": {
        "id": "ZJ-PoARvocWL"
      },
      "id": "ZJ-PoARvocWL"
    },
    {
      "cell_type": "code",
      "source": [
        "numeric_data = df[['Churn','tenure','TotalCharges','MonthlyCharges']]"
      ],
      "metadata": {
        "id": "0FiIAwQrs8-F"
      },
      "id": "0FiIAwQrs8-F",
      "execution_count": null,
      "outputs": []
    },
    {
      "cell_type": "code",
      "source": [
        "numeric_data['TotalCharges'] = pd.to_numeric(numeric_data['TotalCharges'], errors='coerce')\n",
        "create_correlation_matrix(numeric_data)"
      ],
      "metadata": {
        "colab": {
          "base_uri": "https://localhost:8080/",
          "height": 279
        },
        "id": "6WiwG7sfs2OA",
        "outputId": "d927790c-0c20-4d34-9d15-5ba2136e1549"
      },
      "id": "6WiwG7sfs2OA",
      "execution_count": null,
      "outputs": [
        {
          "output_type": "stream",
          "name": "stderr",
          "text": [
            "<ipython-input-13-ede277cf4a0b>:1: SettingWithCopyWarning: \n",
            "A value is trying to be set on a copy of a slice from a DataFrame.\n",
            "Try using .loc[row_indexer,col_indexer] = value instead\n",
            "\n",
            "See the caveats in the documentation: https://pandas.pydata.org/pandas-docs/stable/user_guide/indexing.html#returning-a-view-versus-a-copy\n",
            "  numeric_data['TotalCharges'] = pd.to_numeric(numeric_data['TotalCharges'], errors='coerce')\n"
          ]
        },
        {
          "output_type": "execute_result",
          "data": {
            "text/plain": [
              "                Churn  tenure  TotalCharges  MonthlyCharges\n",
              "Churn            1.00   -0.35         -0.20            0.19\n",
              "tenure          -0.35    1.00          0.83            0.25\n",
              "TotalCharges    -0.20    0.83          1.00            0.65\n",
              "MonthlyCharges   0.19    0.25          0.65            1.00"
            ],
            "text/html": [
              "\n",
              "  <div id=\"df-7dd8e8d1-2918-4d03-a253-aa04d32d265b\">\n",
              "    <div class=\"colab-df-container\">\n",
              "      <div>\n",
              "<style scoped>\n",
              "    .dataframe tbody tr th:only-of-type {\n",
              "        vertical-align: middle;\n",
              "    }\n",
              "\n",
              "    .dataframe tbody tr th {\n",
              "        vertical-align: top;\n",
              "    }\n",
              "\n",
              "    .dataframe thead th {\n",
              "        text-align: right;\n",
              "    }\n",
              "</style>\n",
              "<table border=\"1\" class=\"dataframe\">\n",
              "  <thead>\n",
              "    <tr style=\"text-align: right;\">\n",
              "      <th></th>\n",
              "      <th>Churn</th>\n",
              "      <th>tenure</th>\n",
              "      <th>TotalCharges</th>\n",
              "      <th>MonthlyCharges</th>\n",
              "    </tr>\n",
              "  </thead>\n",
              "  <tbody>\n",
              "    <tr>\n",
              "      <th>Churn</th>\n",
              "      <td>1.00</td>\n",
              "      <td>-0.35</td>\n",
              "      <td>-0.20</td>\n",
              "      <td>0.19</td>\n",
              "    </tr>\n",
              "    <tr>\n",
              "      <th>tenure</th>\n",
              "      <td>-0.35</td>\n",
              "      <td>1.00</td>\n",
              "      <td>0.83</td>\n",
              "      <td>0.25</td>\n",
              "    </tr>\n",
              "    <tr>\n",
              "      <th>TotalCharges</th>\n",
              "      <td>-0.20</td>\n",
              "      <td>0.83</td>\n",
              "      <td>1.00</td>\n",
              "      <td>0.65</td>\n",
              "    </tr>\n",
              "    <tr>\n",
              "      <th>MonthlyCharges</th>\n",
              "      <td>0.19</td>\n",
              "      <td>0.25</td>\n",
              "      <td>0.65</td>\n",
              "      <td>1.00</td>\n",
              "    </tr>\n",
              "  </tbody>\n",
              "</table>\n",
              "</div>\n",
              "      <button class=\"colab-df-convert\" onclick=\"convertToInteractive('df-7dd8e8d1-2918-4d03-a253-aa04d32d265b')\"\n",
              "              title=\"Convert this dataframe to an interactive table.\"\n",
              "              style=\"display:none;\">\n",
              "        \n",
              "  <svg xmlns=\"http://www.w3.org/2000/svg\" height=\"24px\"viewBox=\"0 0 24 24\"\n",
              "       width=\"24px\">\n",
              "    <path d=\"M0 0h24v24H0V0z\" fill=\"none\"/>\n",
              "    <path d=\"M18.56 5.44l.94 2.06.94-2.06 2.06-.94-2.06-.94-.94-2.06-.94 2.06-2.06.94zm-11 1L8.5 8.5l.94-2.06 2.06-.94-2.06-.94L8.5 2.5l-.94 2.06-2.06.94zm10 10l.94 2.06.94-2.06 2.06-.94-2.06-.94-.94-2.06-.94 2.06-2.06.94z\"/><path d=\"M17.41 7.96l-1.37-1.37c-.4-.4-.92-.59-1.43-.59-.52 0-1.04.2-1.43.59L10.3 9.45l-7.72 7.72c-.78.78-.78 2.05 0 2.83L4 21.41c.39.39.9.59 1.41.59.51 0 1.02-.2 1.41-.59l7.78-7.78 2.81-2.81c.8-.78.8-2.07 0-2.86zM5.41 20L4 18.59l7.72-7.72 1.47 1.35L5.41 20z\"/>\n",
              "  </svg>\n",
              "      </button>\n",
              "      \n",
              "  <style>\n",
              "    .colab-df-container {\n",
              "      display:flex;\n",
              "      flex-wrap:wrap;\n",
              "      gap: 12px;\n",
              "    }\n",
              "\n",
              "    .colab-df-convert {\n",
              "      background-color: #E8F0FE;\n",
              "      border: none;\n",
              "      border-radius: 50%;\n",
              "      cursor: pointer;\n",
              "      display: none;\n",
              "      fill: #1967D2;\n",
              "      height: 32px;\n",
              "      padding: 0 0 0 0;\n",
              "      width: 32px;\n",
              "    }\n",
              "\n",
              "    .colab-df-convert:hover {\n",
              "      background-color: #E2EBFA;\n",
              "      box-shadow: 0px 1px 2px rgba(60, 64, 67, 0.3), 0px 1px 3px 1px rgba(60, 64, 67, 0.15);\n",
              "      fill: #174EA6;\n",
              "    }\n",
              "\n",
              "    [theme=dark] .colab-df-convert {\n",
              "      background-color: #3B4455;\n",
              "      fill: #D2E3FC;\n",
              "    }\n",
              "\n",
              "    [theme=dark] .colab-df-convert:hover {\n",
              "      background-color: #434B5C;\n",
              "      box-shadow: 0px 1px 3px 1px rgba(0, 0, 0, 0.15);\n",
              "      filter: drop-shadow(0px 1px 2px rgba(0, 0, 0, 0.3));\n",
              "      fill: #FFFFFF;\n",
              "    }\n",
              "  </style>\n",
              "\n",
              "      <script>\n",
              "        const buttonEl =\n",
              "          document.querySelector('#df-7dd8e8d1-2918-4d03-a253-aa04d32d265b button.colab-df-convert');\n",
              "        buttonEl.style.display =\n",
              "          google.colab.kernel.accessAllowed ? 'block' : 'none';\n",
              "\n",
              "        async function convertToInteractive(key) {\n",
              "          const element = document.querySelector('#df-7dd8e8d1-2918-4d03-a253-aa04d32d265b');\n",
              "          const dataTable =\n",
              "            await google.colab.kernel.invokeFunction('convertToInteractive',\n",
              "                                                     [key], {});\n",
              "          if (!dataTable) return;\n",
              "\n",
              "          const docLinkHtml = 'Like what you see? Visit the ' +\n",
              "            '<a target=\"_blank\" href=https://colab.research.google.com/notebooks/data_table.ipynb>data table notebook</a>'\n",
              "            + ' to learn more about interactive tables.';\n",
              "          element.innerHTML = '';\n",
              "          dataTable['output_type'] = 'display_data';\n",
              "          await google.colab.output.renderOutput(dataTable, element);\n",
              "          const docLink = document.createElement('div');\n",
              "          docLink.innerHTML = docLinkHtml;\n",
              "          element.appendChild(docLink);\n",
              "        }\n",
              "      </script>\n",
              "    </div>\n",
              "  </div>\n",
              "  "
            ]
          },
          "metadata": {},
          "execution_count": 13
        }
      ]
    },
    {
      "cell_type": "markdown",
      "source": [
        "Lets consider 'contract' variable as well as it makes sense to see correlation of contract with numeric variable"
      ],
      "metadata": {
        "id": "gd4Zz_CnpXej"
      },
      "id": "gd4Zz_CnpXej"
    },
    {
      "cell_type": "code",
      "source": [
        "contract_numeric_data = df[['Churn','tenure','TotalCharges','MonthlyCharges','Contract']]\n",
        "contract_numeric_data['TotalCharges'] = pd.to_numeric(contract_numeric_data['TotalCharges'], errors='coerce')\n",
        "cleanup_Contract = {\"Contract\":     {\"Month-to-month\": 1, \"One year\": 2, \"Two year\":3}}\n",
        "contract_numeric_data = contract_numeric_data.replace(cleanup_Contract)\n",
        "contract_numeric_data.corr()"
      ],
      "metadata": {
        "colab": {
          "base_uri": "https://localhost:8080/",
          "height": 310
        },
        "id": "0jOj3nmpZFWZ",
        "outputId": "52be26ae-d148-4a12-91aa-1d0be80586f3"
      },
      "id": "0jOj3nmpZFWZ",
      "execution_count": null,
      "outputs": [
        {
          "output_type": "stream",
          "name": "stderr",
          "text": [
            "<ipython-input-14-3f4becaca9fc>:2: SettingWithCopyWarning: \n",
            "A value is trying to be set on a copy of a slice from a DataFrame.\n",
            "Try using .loc[row_indexer,col_indexer] = value instead\n",
            "\n",
            "See the caveats in the documentation: https://pandas.pydata.org/pandas-docs/stable/user_guide/indexing.html#returning-a-view-versus-a-copy\n",
            "  contract_numeric_data['TotalCharges'] = pd.to_numeric(contract_numeric_data['TotalCharges'], errors='coerce')\n"
          ]
        },
        {
          "output_type": "execute_result",
          "data": {
            "text/plain": [
              "                   Churn    tenure  TotalCharges  MonthlyCharges  Contract\n",
              "Churn           1.000000 -0.352229     -0.199484        0.193356 -0.396713\n",
              "tenure         -0.352229  1.000000      0.825880        0.247900  0.671607\n",
              "TotalCharges   -0.199484  0.825880      1.000000        0.651065  0.450306\n",
              "MonthlyCharges  0.193356  0.247900      0.651065        1.000000 -0.074195\n",
              "Contract       -0.396713  0.671607      0.450306       -0.074195  1.000000"
            ],
            "text/html": [
              "\n",
              "  <div id=\"df-3c1d5dd6-00d8-47d2-a269-521f6f29f935\">\n",
              "    <div class=\"colab-df-container\">\n",
              "      <div>\n",
              "<style scoped>\n",
              "    .dataframe tbody tr th:only-of-type {\n",
              "        vertical-align: middle;\n",
              "    }\n",
              "\n",
              "    .dataframe tbody tr th {\n",
              "        vertical-align: top;\n",
              "    }\n",
              "\n",
              "    .dataframe thead th {\n",
              "        text-align: right;\n",
              "    }\n",
              "</style>\n",
              "<table border=\"1\" class=\"dataframe\">\n",
              "  <thead>\n",
              "    <tr style=\"text-align: right;\">\n",
              "      <th></th>\n",
              "      <th>Churn</th>\n",
              "      <th>tenure</th>\n",
              "      <th>TotalCharges</th>\n",
              "      <th>MonthlyCharges</th>\n",
              "      <th>Contract</th>\n",
              "    </tr>\n",
              "  </thead>\n",
              "  <tbody>\n",
              "    <tr>\n",
              "      <th>Churn</th>\n",
              "      <td>1.000000</td>\n",
              "      <td>-0.352229</td>\n",
              "      <td>-0.199484</td>\n",
              "      <td>0.193356</td>\n",
              "      <td>-0.396713</td>\n",
              "    </tr>\n",
              "    <tr>\n",
              "      <th>tenure</th>\n",
              "      <td>-0.352229</td>\n",
              "      <td>1.000000</td>\n",
              "      <td>0.825880</td>\n",
              "      <td>0.247900</td>\n",
              "      <td>0.671607</td>\n",
              "    </tr>\n",
              "    <tr>\n",
              "      <th>TotalCharges</th>\n",
              "      <td>-0.199484</td>\n",
              "      <td>0.825880</td>\n",
              "      <td>1.000000</td>\n",
              "      <td>0.651065</td>\n",
              "      <td>0.450306</td>\n",
              "    </tr>\n",
              "    <tr>\n",
              "      <th>MonthlyCharges</th>\n",
              "      <td>0.193356</td>\n",
              "      <td>0.247900</td>\n",
              "      <td>0.651065</td>\n",
              "      <td>1.000000</td>\n",
              "      <td>-0.074195</td>\n",
              "    </tr>\n",
              "    <tr>\n",
              "      <th>Contract</th>\n",
              "      <td>-0.396713</td>\n",
              "      <td>0.671607</td>\n",
              "      <td>0.450306</td>\n",
              "      <td>-0.074195</td>\n",
              "      <td>1.000000</td>\n",
              "    </tr>\n",
              "  </tbody>\n",
              "</table>\n",
              "</div>\n",
              "      <button class=\"colab-df-convert\" onclick=\"convertToInteractive('df-3c1d5dd6-00d8-47d2-a269-521f6f29f935')\"\n",
              "              title=\"Convert this dataframe to an interactive table.\"\n",
              "              style=\"display:none;\">\n",
              "        \n",
              "  <svg xmlns=\"http://www.w3.org/2000/svg\" height=\"24px\"viewBox=\"0 0 24 24\"\n",
              "       width=\"24px\">\n",
              "    <path d=\"M0 0h24v24H0V0z\" fill=\"none\"/>\n",
              "    <path d=\"M18.56 5.44l.94 2.06.94-2.06 2.06-.94-2.06-.94-.94-2.06-.94 2.06-2.06.94zm-11 1L8.5 8.5l.94-2.06 2.06-.94-2.06-.94L8.5 2.5l-.94 2.06-2.06.94zm10 10l.94 2.06.94-2.06 2.06-.94-2.06-.94-.94-2.06-.94 2.06-2.06.94z\"/><path d=\"M17.41 7.96l-1.37-1.37c-.4-.4-.92-.59-1.43-.59-.52 0-1.04.2-1.43.59L10.3 9.45l-7.72 7.72c-.78.78-.78 2.05 0 2.83L4 21.41c.39.39.9.59 1.41.59.51 0 1.02-.2 1.41-.59l7.78-7.78 2.81-2.81c.8-.78.8-2.07 0-2.86zM5.41 20L4 18.59l7.72-7.72 1.47 1.35L5.41 20z\"/>\n",
              "  </svg>\n",
              "      </button>\n",
              "      \n",
              "  <style>\n",
              "    .colab-df-container {\n",
              "      display:flex;\n",
              "      flex-wrap:wrap;\n",
              "      gap: 12px;\n",
              "    }\n",
              "\n",
              "    .colab-df-convert {\n",
              "      background-color: #E8F0FE;\n",
              "      border: none;\n",
              "      border-radius: 50%;\n",
              "      cursor: pointer;\n",
              "      display: none;\n",
              "      fill: #1967D2;\n",
              "      height: 32px;\n",
              "      padding: 0 0 0 0;\n",
              "      width: 32px;\n",
              "    }\n",
              "\n",
              "    .colab-df-convert:hover {\n",
              "      background-color: #E2EBFA;\n",
              "      box-shadow: 0px 1px 2px rgba(60, 64, 67, 0.3), 0px 1px 3px 1px rgba(60, 64, 67, 0.15);\n",
              "      fill: #174EA6;\n",
              "    }\n",
              "\n",
              "    [theme=dark] .colab-df-convert {\n",
              "      background-color: #3B4455;\n",
              "      fill: #D2E3FC;\n",
              "    }\n",
              "\n",
              "    [theme=dark] .colab-df-convert:hover {\n",
              "      background-color: #434B5C;\n",
              "      box-shadow: 0px 1px 3px 1px rgba(0, 0, 0, 0.15);\n",
              "      filter: drop-shadow(0px 1px 2px rgba(0, 0, 0, 0.3));\n",
              "      fill: #FFFFFF;\n",
              "    }\n",
              "  </style>\n",
              "\n",
              "      <script>\n",
              "        const buttonEl =\n",
              "          document.querySelector('#df-3c1d5dd6-00d8-47d2-a269-521f6f29f935 button.colab-df-convert');\n",
              "        buttonEl.style.display =\n",
              "          google.colab.kernel.accessAllowed ? 'block' : 'none';\n",
              "\n",
              "        async function convertToInteractive(key) {\n",
              "          const element = document.querySelector('#df-3c1d5dd6-00d8-47d2-a269-521f6f29f935');\n",
              "          const dataTable =\n",
              "            await google.colab.kernel.invokeFunction('convertToInteractive',\n",
              "                                                     [key], {});\n",
              "          if (!dataTable) return;\n",
              "\n",
              "          const docLinkHtml = 'Like what you see? Visit the ' +\n",
              "            '<a target=\"_blank\" href=https://colab.research.google.com/notebooks/data_table.ipynb>data table notebook</a>'\n",
              "            + ' to learn more about interactive tables.';\n",
              "          element.innerHTML = '';\n",
              "          dataTable['output_type'] = 'display_data';\n",
              "          await google.colab.output.renderOutput(dataTable, element);\n",
              "          const docLink = document.createElement('div');\n",
              "          docLink.innerHTML = docLinkHtml;\n",
              "          element.appendChild(docLink);\n",
              "        }\n",
              "      </script>\n",
              "    </div>\n",
              "  </div>\n",
              "  "
            ]
          },
          "metadata": {},
          "execution_count": 14
        }
      ]
    },
    {
      "cell_type": "markdown",
      "source": [
        "## Data Modeling"
      ],
      "metadata": {
        "id": "ZQivuk4VFmfp"
      },
      "id": "ZQivuk4VFmfp"
    },
    {
      "cell_type": "markdown",
      "source": [
        "Dropping the irrelevant columns and converting categorical features into numerical features by one hot encoding method"
      ],
      "metadata": {
        "id": "BwDlsWpqspvf"
      },
      "id": "BwDlsWpqspvf"
    },
    {
      "cell_type": "code",
      "source": [
        "df.drop(['customerID', 'gender','PhoneService','MultipleLines','Contract','TotalCharges'], axis=1, inplace=True)"
      ],
      "metadata": {
        "id": "-4s8I9AKM-kU"
      },
      "id": "-4s8I9AKM-kU",
      "execution_count": null,
      "outputs": []
    },
    {
      "cell_type": "code",
      "source": [
        "cat_features = ['SeniorCitizen', 'Partner', 'Dependents', 'InternetService','OnlineSecurity' , 'OnlineBackup', 'DeviceProtection', 'TechSupport', 'StreamingTV',\n",
        "'StreamingMovies', 'PaperlessBilling', 'PaymentMethod']\n",
        "X = pd.get_dummies(df, columns=cat_features, drop_first=True)"
      ],
      "metadata": {
        "id": "Cv9BCYARHJZg"
      },
      "id": "Cv9BCYARHJZg",
      "execution_count": null,
      "outputs": []
    },
    {
      "cell_type": "markdown",
      "source": [
        "Look the distribution of target variable and do upsampling for imbalanced dataset"
      ],
      "metadata": {
        "id": "4NbJuX6Ys6dS"
      },
      "id": "4NbJuX6Ys6dS"
    },
    {
      "cell_type": "code",
      "source": [
        "sns.countplot('Churn', data=df).set_title('Class Distribution Before Resampling')"
      ],
      "metadata": {
        "colab": {
          "base_uri": "https://localhost:8080/",
          "height": 367
        },
        "id": "Dl7ca_PYG14p",
        "outputId": "262910ca-0e9c-4485-aa2f-eb7b1cb1af77"
      },
      "id": "Dl7ca_PYG14p",
      "execution_count": null,
      "outputs": [
        {
          "output_type": "stream",
          "name": "stderr",
          "text": [
            "/usr/local/lib/python3.8/dist-packages/seaborn/_decorators.py:36: FutureWarning: Pass the following variable as a keyword arg: x. From version 0.12, the only valid positional argument will be `data`, and passing other arguments without an explicit keyword will result in an error or misinterpretation.\n",
            "  warnings.warn(\n"
          ]
        },
        {
          "output_type": "execute_result",
          "data": {
            "text/plain": [
              "Text(0.5, 1.0, 'Class Distribution Before Resampling')"
            ]
          },
          "metadata": {},
          "execution_count": 17
        },
        {
          "output_type": "display_data",
          "data": {
            "text/plain": [
              "<Figure size 432x288 with 1 Axes>"
            ],
            "image/png": "[encoded data removed]"
          },
          "metadata": {
            "needs_background": "light"
          }
        }
      ]
    },
    {
      "cell_type": "code",
      "source": [
        "X_no = X[X.Churn == 0]\n",
        "X_yes = X[X.Churn == 1]"
      ],
      "metadata": {
        "id": "37dVzNkQG9Yz"
      },
      "id": "37dVzNkQG9Yz",
      "execution_count": null,
      "outputs": []
    },
    {
      "cell_type": "code",
      "source": [
        "X_yes_upsampled = X_yes.sample(n=len(X_no), replace=True, random_state=42)\n",
        "X_upsampled = X_no.append(X_yes_upsampled).reset_index(drop=True)\n",
        "sns.countplot('Churn', data=X_upsampled).set_title('Class Distribution After Resampling')"
      ],
      "metadata": {
        "colab": {
          "base_uri": "https://localhost:8080/",
          "height": 367
        },
        "id": "1nOih0SwHTU9",
        "outputId": "67dcb6a6-2fa8-42cf-be83-0d0fd6e13664"
      },
      "id": "1nOih0SwHTU9",
      "execution_count": null,
      "outputs": [
        {
          "output_type": "stream",
          "name": "stderr",
          "text": [
            "/usr/local/lib/python3.8/dist-packages/seaborn/_decorators.py:36: FutureWarning: Pass the following variable as a keyword arg: x. From version 0.12, the only valid positional argument will be `data`, and passing other arguments without an explicit keyword will result in an error or misinterpretation.\n",
            "  warnings.warn(\n"
          ]
        },
        {
          "output_type": "execute_result",
          "data": {
            "text/plain": [
              "Text(0.5, 1.0, 'Class Distribution After Resampling')"
            ]
          },
          "metadata": {},
          "execution_count": 19
        },
        {
          "output_type": "display_data",
          "data": {
            "text/plain": [
              "<Figure size 432x288 with 1 Axes>"
            ],
            "image/png": "[encoded data removed]"
          },
          "metadata": {
            "needs_background": "light"
          }
        }
      ]
    },
    {
      "cell_type": "markdown",
      "source": [
        "Handing variables with outliers.."
      ],
      "metadata": {
        "id": "dd4S3f_3tqFz"
      },
      "id": "dd4S3f_3tqFz"
    },
    {
      "cell_type": "code",
      "source": [
        "fig, axes = plt.subplots(1,2, figsize=(12, 7))\n",
        "sns.distplot(df[\"tenure\"], ax=axes[0])\n",
        "sns.distplot(df[\"MonthlyCharges\"], ax=axes[1])"
      ],
      "metadata": {
        "id": "p21psmp5HcZZ",
        "colab": {
          "base_uri": "https://localhost:8080/",
          "height": 549
        },
        "outputId": "5e1d99f7-4fa8-400c-e05e-f91273c73421"
      },
      "id": "p21psmp5HcZZ",
      "execution_count": null,
      "outputs": [
        {
          "output_type": "stream",
          "name": "stderr",
          "text": [
            "/usr/local/lib/python3.8/dist-packages/seaborn/distributions.py:2619: FutureWarning: `distplot` is a deprecated function and will be removed in a future version. Please adapt your code to use either `displot` (a figure-level function with similar flexibility) or `histplot` (an axes-level function for histograms).\n",
            "  warnings.warn(msg, FutureWarning)\n",
            "/usr/local/lib/python3.8/dist-packages/seaborn/distributions.py:2619: FutureWarning: `distplot` is a deprecated function and will be removed in a future version. Please adapt your code to use either `displot` (a figure-level function with similar flexibility) or `histplot` (an axes-level function for histograms).\n",
            "  warnings.warn(msg, FutureWarning)\n"
          ]
        },
        {
          "output_type": "execute_result",
          "data": {
            "text/plain": [
              "<matplotlib.axes._subplots.AxesSubplot at 0x7f307cb61bb0>"
            ]
          },
          "metadata": {},
          "execution_count": 20
        },
        {
          "output_type": "display_data",
          "data": {
            "text/plain": [
              "<Figure size 864x504 with 2 Axes>"
            ],
            "image/png": "[encoded data removed]"
          },
          "metadata": {
            "needs_background": "light"
          }
        }
      ]
    },
    {
      "cell_type": "code",
      "source": [
        "sc = MinMaxScaler()\n",
        "a = sc.fit_transform(df[['tenure']])\n",
        "b = sc.fit_transform(df[['MonthlyCharges']])\n",
        "X['tenure'] = a\n",
        "X['MonthlyCharges'] = b"
      ],
      "metadata": {
        "id": "GVUxWpMKGUCb"
      },
      "id": "GVUxWpMKGUCb",
      "execution_count": null,
      "outputs": []
    },
    {
      "cell_type": "code",
      "source": [
        "X.shape\n",
        "(7043, 26)"
      ],
      "metadata": {
        "colab": {
          "base_uri": "https://localhost:8080/"
        },
        "id": "KCUdRpBvGXkf",
        "outputId": "e30d8953-b3be-41ab-869e-4aa0eb4b8cbe"
      },
      "id": "KCUdRpBvGXkf",
      "execution_count": null,
      "outputs": [
        {
          "output_type": "execute_result",
          "data": {
            "text/plain": [
              "(7043, 26)"
            ]
          },
          "metadata": {},
          "execution_count": 22
        }
      ]
    },
    {
      "cell_type": "markdown",
      "source": [
        "Split the data into train and test "
      ],
      "metadata": {
        "id": "gVwHHuRxtyqR"
      },
      "id": "gVwHHuRxtyqR"
    },
    {
      "cell_type": "code",
      "source": [
        "from sklearn.model_selection import train_test_split\n",
        "X = X_upsampled.drop(['Churn'], axis=1)\n",
        "y = X_upsampled['Churn'] "
      ],
      "metadata": {
        "id": "W_UsuJybGag_"
      },
      "id": "W_UsuJybGag_",
      "execution_count": null,
      "outputs": []
    },
    {
      "cell_type": "code",
      "source": [
        "X_train, X_test, y_train, y_test = train_test_split(X, y, test_size = 0.2, random_state=42)"
      ],
      "metadata": {
        "id": "V0q-pa_ML8dF"
      },
      "id": "V0q-pa_ML8dF",
      "execution_count": null,
      "outputs": []
    },
    {
      "cell_type": "markdown",
      "source": [
        "Comparison between different ML Models"
      ],
      "metadata": {
        "id": "CBRD9q-Gt7xG"
      },
      "id": "CBRD9q-Gt7xG"
    },
    {
      "cell_type": "code",
      "source": [
        "def fit_and_predict_model(model):\n",
        "    ml = model\n",
        "    model.fit(X_train, y_train)\n",
        "    pred = model.predict(X_train)\n",
        "    acc_train = accuracy_score(y_train, pred)\n",
        "    pred_test = model.predict(X_test)\n",
        "    acc_test = accuracy_score(y_test, pred_test)\n",
        "    conf_matrix = confusion_matrix(y_true=y_test, y_pred=pred_test)\n",
        "    #print('Accuracy on training set :', acc_train)\n",
        "    print('Accuracy :', acc_test)\n",
        "    print('Precision :', precision_score(y_test,pred_test))\n",
        "    print('Recall :', recall_score(y_test, pred_test))\n",
        "    #print('Confusion Matrix :', conf_matrix)\n",
        "    fig, ax = plt.subplots(figsize=(5, 5))\n",
        "    ax.matshow(conf_matrix, cmap=plt.cm.Oranges, alpha=0.3)\n",
        "    for i in range(conf_matrix.shape[0]):\n",
        "      for j in range(conf_matrix.shape[1]):\n",
        "        ax.text(x=j, y=i,s=conf_matrix[i, j], va='center', ha='center', size='xx-large')\n",
        " \n",
        "    plt.xlabel('Predictions', fontsize=18)\n",
        "    plt.ylabel('Actuals', fontsize=18)\n",
        "    plt.title('Confusion Matrix', fontsize=18)\n",
        "    plt.show()\n"
      ],
      "metadata": {
        "id": "bVkaR__auiZQ"
      },
      "id": "bVkaR__auiZQ",
      "execution_count": null,
      "outputs": []
    },
    {
      "cell_type": "markdown",
      "source": [
        "For Ridge Classifier"
      ],
      "metadata": {
        "id": "PQ24kWG4vytZ"
      },
      "id": "PQ24kWG4vytZ"
    },
    {
      "cell_type": "code",
      "source": [
        "fit_and_predict_model(RidgeClassifier())"
      ],
      "metadata": {
        "colab": {
          "base_uri": "https://localhost:8080/",
          "height": 410
        },
        "id": "U3Ohzd2hvxmz",
        "outputId": "7911d75e-e965-416b-ed35-aadca654bb93"
      },
      "id": "U3Ohzd2hvxmz",
      "execution_count": null,
      "outputs": [
        {
          "output_type": "stream",
          "name": "stdout",
          "text": [
            "Accuracy : 0.7618357487922706\n",
            "Precision : 0.7488328664799253\n",
            "Recall : 0.7816764132553606\n"
          ]
        },
        {
          "output_type": "display_data",
          "data": {
            "text/plain": [
              "<Figure size 360x360 with 1 Axes>"
            ],
            "image/png": "[encoded data removed]"
          },
          "metadata": {
            "needs_background": "light"
          }
        }
      ]
    },
    {
      "cell_type": "markdown",
      "source": [
        "For Random Forest Classifier"
      ],
      "metadata": {
        "id": "9eUjlUjhv3Gn"
      },
      "id": "9eUjlUjhv3Gn"
    },
    {
      "cell_type": "code",
      "source": [
        "fit_and_predict_model(RandomForestClassifier(n_estimators=100, max_depth=10))"
      ],
      "metadata": {
        "colab": {
          "base_uri": "https://localhost:8080/",
          "height": 410
        },
        "id": "IJHpE3YFv75I",
        "outputId": "71f0d41b-449f-47e1-d4ac-fd2a462dffd8"
      },
      "id": "IJHpE3YFv75I",
      "execution_count": null,
      "outputs": [
        {
          "output_type": "stream",
          "name": "stdout",
          "text": [
            "Accuracy : 0.8429951690821256\n",
            "Precision : 0.8034632034632034\n",
            "Recall : 0.9044834307992202\n"
          ]
        },
        {
          "output_type": "display_data",
          "data": {
            "text/plain": [
              "<Figure size 360x360 with 1 Axes>"
            ],
            "image/png": "[encoded data removed]"
          },
          "metadata": {
            "needs_background": "light"
          }
        }
      ]
    },
    {
      "cell_type": "markdown",
      "source": [
        "For KNeighbor Classifier"
      ],
      "metadata": {
        "id": "lsEBHZSZwGfy"
      },
      "id": "lsEBHZSZwGfy"
    },
    {
      "cell_type": "code",
      "source": [
        "fit_and_predict_model(KNeighborsClassifier())"
      ],
      "metadata": {
        "colab": {
          "base_uri": "https://localhost:8080/",
          "height": 410
        },
        "id": "Msin_sKxwFyw",
        "outputId": "029de281-711f-4c8d-c9c6-2698c655fb06"
      },
      "id": "Msin_sKxwFyw",
      "execution_count": null,
      "outputs": [
        {
          "output_type": "stream",
          "name": "stdout",
          "text": [
            "Accuracy : 0.7913043478260869\n",
            "Precision : 0.7491610738255033\n",
            "Recall : 0.8703703703703703\n"
          ]
        },
        {
          "output_type": "display_data",
          "data": {
            "text/plain": [
              "<Figure size 360x360 with 1 Axes>"
            ],
            "image/png": "[encoded data removed]"
          },
          "metadata": {
            "needs_background": "light"
          }
        }
      ]
    },
    {
      "cell_type": "markdown",
      "source": [
        "For Logistic Regression"
      ],
      "metadata": {
        "id": "7r4ViYAbwW8E"
      },
      "id": "7r4ViYAbwW8E"
    },
    {
      "cell_type": "code",
      "source": [
        "fit_and_predict_model(LogisticRegression (max_iter=1000))"
      ],
      "metadata": {
        "colab": {
          "base_uri": "https://localhost:8080/",
          "height": 410
        },
        "id": "d4G-sm2owSWc",
        "outputId": "2dbcf696-63d9-42a6-cf57-dab3d10b6248"
      },
      "id": "d4G-sm2owSWc",
      "execution_count": null,
      "outputs": [
        {
          "output_type": "stream",
          "name": "stdout",
          "text": [
            "Accuracy : 0.7579710144927536\n",
            "Precision : 0.7502383222116301\n",
            "Recall : 0.767056530214425\n"
          ]
        },
        {
          "output_type": "display_data",
          "data": {
            "text/plain": [
              "<Figure size 360x360 with 1 Axes>"
            ],
            "image/png": "[encoded data removed]"
          },
          "metadata": {
            "needs_background": "light"
          }
        }
      ]
    },
    {
      "cell_type": "code",
      "source": [
        "param_grid_rf = {'n_estimators': np.arange (10, 2000, 10),\n",
        "'max_features': ['auto', 'sqrt'],\n",
        "'max_depth': np.arange(10, 200, 10),\n",
        "'criterion': ['gini', 'entropy'],\n",
        "'bootstrap': [True, False]}\n",
        "rf = RandomForestClassifier()\n",
        "rf_random_grid = RandomizedSearchCV(estimator=rf, param_distributions=param_grid_rf, cv=5, verbose=0)\n",
        "fit_and_predict_model(rf_random_grid)\n"
      ],
      "metadata": {
        "colab": {
          "base_uri": "https://localhost:8080/",
          "height": 410
        },
        "id": "Flo6tYhSCUbY",
        "outputId": "a1a8c941-c3f0-4520-d156-09aff15e156d"
      },
      "id": "Flo6tYhSCUbY",
      "execution_count": null,
      "outputs": [
        {
          "output_type": "stream",
          "name": "stdout",
          "text": [
            "Accuracy : 0.9202898550724637\n",
            "Precision : 0.8867924528301887\n",
            "Recall : 0.9619883040935673\n"
          ]
        },
        {
          "output_type": "display_data",
          "data": {
            "text/plain": [
              "<Figure size 360x360 with 1 Axes>"
            ],
            "image/png": "[encoded data removed]"
          },
          "metadata": {
            "needs_background": "light"
          }
        }
      ]
    },
    {
      "cell_type": "code",
      "source": [
        "rf_random_grid.best_params_"
      ],
      "metadata": {
        "id": "Nu7jGcWNIGcf",
        "colab": {
          "base_uri": "https://localhost:8080/"
        },
        "outputId": "19e06697-e1e9-4044-a6a8-93d7b924368f"
      },
      "id": "Nu7jGcWNIGcf",
      "execution_count": null,
      "outputs": [
        {
          "output_type": "execute_result",
          "data": {
            "text/plain": [
              "{'n_estimators': 300,\n",
              " 'max_features': 'sqrt',\n",
              " 'max_depth': 20,\n",
              " 'criterion': 'entropy',\n",
              " 'bootstrap': False}"
            ]
          },
          "metadata": {},
          "execution_count": 31
        }
      ]
    },
    {
      "cell_type": "code",
      "source": [
        "rf_random_grid.fit(X,y)\n",
        "rf_random_grid.best_score_"
      ],
      "metadata": {
        "id": "R5vbNuTNItfj"
      },
      "id": "R5vbNuTNItfj",
      "execution_count": null,
      "outputs": []
    },
    {
      "cell_type": "code",
      "source": [
        "parameters = {'n_estimators':[150,200,250,300], 'max_depth':[15,20,25]}\n",
        "forest = RandomForestClassifier()\n",
        "clf = GridSearchCV(estimator=forest, param_grid=parameters, n_jobs=-1, cv=5)\n",
        "fit_and_predict_model(clf)\n",
        "clf.best_params_"
      ],
      "metadata": {
        "id": "V6OlH7THFgHU",
        "colab": {
          "base_uri": "https://localhost:8080/",
          "height": 427
        },
        "outputId": "f60b2ee3-c534-425c-a0ab-0aa087899432"
      },
      "id": "V6OlH7THFgHU",
      "execution_count": null,
      "outputs": [
        {
          "output_type": "stream",
          "name": "stdout",
          "text": [
            "Accuracy : 0.9077294685990338\n",
            "Precision : 0.8652668416447944\n",
            "Recall : 0.9639376218323586\n"
          ]
        },
        {
          "output_type": "display_data",
          "data": {
            "text/plain": [
              "<Figure size 360x360 with 1 Axes>"
            ],
            "image/png": "[encoded data removed]"
          },
          "metadata": {
            "needs_background": "light"
          }
        },
        {
          "output_type": "execute_result",
          "data": {
            "text/plain": [
              "{'max_depth': 25, 'n_estimators': 300}"
            ]
          },
          "metadata": {},
          "execution_count": 32
        }
      ]
    },
    {
      "cell_type": "code",
      "source": [
        "clf.fit(X, y)\n",
        "clf.best_score_"
      ],
      "metadata": {
        "colab": {
          "base_uri": "https://localhost:8080/"
        },
        "id": "3MO3nwmLOYsp",
        "outputId": "34cb5b29-e5b0-4316-b6e7-3394e823a2e6"
      },
      "id": "3MO3nwmLOYsp",
      "execution_count": null,
      "outputs": [
        {
          "output_type": "execute_result",
          "data": {
            "text/plain": [
              "0.9021067378345627"
            ]
          },
          "metadata": {},
          "execution_count": 33
        }
      ]
    }
  ],
  "metadata": {
    "kernelspec": {
      "display_name": "Python 3",
      "language": "python",
      "name": "python3"
    },
    "language_info": {
      "codemirror_mode": {
        "name": "ipython",
        "version": 3
      },
      "file_extension": ".py",
      "mimetype": "text/x-python",
      "name": "python",
      "nbconvert_exporter": "python",
      "pygments_lexer": "ipython3",
      "version": "3.8.8"
    },
    "colab": {
      "provenance": []
    }
  },
  "nbformat": 4,
  "nbformat_minor": 5
}